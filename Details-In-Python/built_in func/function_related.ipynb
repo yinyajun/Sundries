{
 "cells": [
  {
   "cell_type": "code",
   "execution_count": 1,
   "metadata": {
    "collapsed": true
   },
   "outputs": [],
   "source": [
    "class Test(object):\n",
    "    cls_val = 1\n",
    "    \n",
    "    def __init__(self):\n",
    "        self.ins_val = 10\n",
    "\n"
   ]
  },
  {
   "cell_type": "code",
   "execution_count": 2,
   "metadata": {},
   "outputs": [
    {
     "data": {
      "text/plain": [
       "mappingproxy({'__module__': '__main__',\n              'cls_val': 1,\n              '__init__': <function __main__.Test.__init__(self)>,\n              '__dict__': <attribute '__dict__' of 'Test' objects>,\n              '__weakref__': <attribute '__weakref__' of 'Test' objects>,\n              '__doc__': None})"
      ]
     },
     "execution_count": 2,
     "metadata": {},
     "output_type": "execute_result"
    }
   ],
   "source": [
    "Test.__dict__"
   ]
  },
  {
   "cell_type": "code",
   "execution_count": 3,
   "metadata": {},
   "outputs": [
    {
     "data": {
      "text/plain": [
       "{'ins_val': 10}"
      ]
     },
     "execution_count": 3,
     "metadata": {},
     "output_type": "execute_result"
    }
   ],
   "source": [
    "t = Test()\n",
    "t.__dict__"
   ]
  },
  {
   "cell_type": "code",
   "execution_count": 7,
   "metadata": {},
   "outputs": [
    {
     "data": {
      "text/plain": [
       "{'ins_val': 10, 'cls_val': 20}"
      ]
     },
     "execution_count": 7,
     "metadata": {},
     "output_type": "execute_result"
    }
   ],
   "source": [
    "t.cls_val = 20\n",
    "t.__dict__"
   ]
  },
  {
   "cell_type": "code",
   "execution_count": 8,
   "metadata": {},
   "outputs": [
    {
     "data": {
      "text/plain": [
       "mappingproxy({'__module__': '__main__',\n              'cls_val': 1,\n              '__init__': <function __main__.Test.__init__(self)>,\n              '__dict__': <attribute '__dict__' of 'Test' objects>,\n              '__weakref__': <attribute '__weakref__' of 'Test' objects>,\n              '__doc__': None})"
      ]
     },
     "execution_count": 8,
     "metadata": {},
     "output_type": "execute_result"
    }
   ],
   "source": [
    "Test.__dict__"
   ]
  },
  {
   "cell_type": "code",
   "execution_count": 12,
   "metadata": {},
   "outputs": [
    {
     "data": {
      "text/plain": [
       "mappingproxy({'__module__': '__main__',\n              'cls_val': 50,\n              '__init__': <function __main__.Test.__init__(self)>,\n              '__dict__': <attribute '__dict__' of 'Test' objects>,\n              '__weakref__': <attribute '__weakref__' of 'Test' objects>,\n              '__doc__': None})"
      ]
     },
     "execution_count": 12,
     "metadata": {},
     "output_type": "execute_result"
    }
   ],
   "source": [
    "Test.cls_val=50\n",
    "Test.__dict__"
   ]
  },
  {
   "cell_type": "code",
   "execution_count": 13,
   "metadata": {},
   "outputs": [
    {
     "data": {
      "text/plain": [
       "{'ins_val': 10, 'cls_val': 20}"
      ]
     },
     "execution_count": 13,
     "metadata": {},
     "output_type": "execute_result"
    }
   ],
   "source": [
    "t.__dict__"
   ]
  },
  {
   "cell_type": "code",
   "execution_count": 15,
   "metadata": {},
   "outputs": [
    {
     "name": "stdout",
     "output_type": "stream",
     "text": [
      "__get__...\nself : <__main__.Desc object at 0x00000000050BC3C8>\ninstance : <__main__.TestDesc object at 0x00000000050BC400>\nowner : <class '__main__.TestDesc'>\n========================================\n"
     ]
    }
   ],
   "source": [
    "class Desc(object):\n",
    "    def __get__(self, instance, owner):\n",
    "        print(\"__get__...\")\n",
    "        print(\"self :\", self)\n",
    "        print(\"instance :\", instance)\n",
    "        print(\"owner :\", owner)\n",
    "        print('=' * 40)\n",
    "\n",
    "    def __set__(self, instance, value):\n",
    "        print('__set__...')\n",
    "        print(\"self :\", self)\n",
    "        print(\"instance :\", instance)\n",
    "        print(\"value :\", value)\n",
    "        print('=' * 40)\n",
    "\n",
    "\n",
    "class TestDesc(object):\n",
    "    x = Desc()\n",
    "\n",
    "\n",
    "#以下为测试代码\n",
    "t = TestDesc()\n",
    "t.x\n"
   ]
  },
  {
   "cell_type": "code",
   "execution_count": 30,
   "metadata": {},
   "outputs": [
    {
     "name": "stdout",
     "output_type": "stream",
     "text": [
      "Hello 1\nWorld 2\naaaa 3\nDel Hello 2\nDel World 1\nDel aaaa 0\n"
     ]
    }
   ],
   "source": [
    "class NewClass(object):\n",
    "    num_count = 0  # 所有的实例都共享此变量，即不单独为每个实例分配  \n",
    "    def __init__(self, name):\n",
    "        self.name = name\n",
    "        NewClass.num_count += 1\n",
    "        print(name, NewClass.num_count)\n",
    "    def __del__(self):\n",
    "        NewClass.num_count -= 1\n",
    "        print(\"Del\", self.name, NewClass.num_count)\n",
    "\n",
    "\n",
    "aa = NewClass(\"Hello\")  \n",
    "bb = NewClass(\"World\")  \n",
    "cc = NewClass(\"aaaa\")  \n",
    "  \n",
    "del aa  \n",
    "del bb  \n",
    "del cc "
   ]
  },
  {
   "cell_type": "code",
   "execution_count": 21,
   "metadata": {},
   "outputs": [],
   "source": []
  },
  {
   "cell_type": "code",
   "execution_count": 21,
   "metadata": {},
   "outputs": [],
   "source": []
  },
  {
   "cell_type": "code",
   "execution_count": 21,
   "metadata": {},
   "outputs": [],
   "source": []
  },
  {
   "cell_type": "code",
   "execution_count": null,
   "metadata": {},
   "outputs": [],
   "source": []
  }
 ],
 "metadata": {
  "kernelspec": {
   "display_name": "Python 2",
   "language": "python",
   "name": "python2"
  },
  "language_info": {
   "codemirror_mode": {
    "name": "ipython",
    "version": 2
   },
   "file_extension": ".py",
   "mimetype": "text/x-python",
   "name": "python",
   "nbconvert_exporter": "python",
   "pygments_lexer": "ipython2",
   "version": "2.7.6"
  }
 },
 "nbformat": 4,
 "nbformat_minor": 0
}
