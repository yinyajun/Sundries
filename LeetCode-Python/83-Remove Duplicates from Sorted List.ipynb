{
 "cells": [
  {
   "cell_type": "markdown",
   "metadata": {
    "collapsed": true
   },
   "source": [
    "给定一个排序链表，删除所有重复的元素，使得每个元素只出现一次。\n",
    "\n",
    "示例 1:\n",
    "\n",
    "输入: 1->1->2\n",
    "\n",
    "输出: 1->2\n",
    "\n",
    "示例 2:\n",
    "\n",
    "输入: 1->1->2->3->3\n",
    "\n",
    "输出: 1->2->3\n"
   ]
  },
  {
   "cell_type": "code",
   "execution_count": 1,
   "metadata": {},
   "outputs": [],
   "source": [
    "class ListNode:\n",
    "    def __init__(self, x):\n",
    "        self.val = x\n",
    "        self.next = None\n",
    "\n",
    "\n",
    "class Solution:\n",
    "    def deleteDuplicates(self, head: ListNode) -> ListNode:\n",
    "        dummy_head = ListNode(None)\n",
    "        dummy_head.next = head\n",
    "\n",
    "        pre = dummy_head\n",
    "        cur = head\n",
    "\n",
    "        while cur:\n",
    "            if pre and cur.val == pre.val:\n",
    "                pre.next = cur.next\n",
    "                cur.next = None\n",
    "                cur = pre.next\n",
    "                continue\n",
    "\n",
    "            pre = cur\n",
    "            cur = cur.next\n",
    "        return dummy_head.next\n"
   ]
  },
  {
   "cell_type": "code",
   "execution_count": null,
   "metadata": {},
   "outputs": [],
   "source": [
    "\"\"\"\n",
    "递归写法\n",
    "\"\"\"\n",
    "class ListNode:\n",
    "    def __init__(self, x):\n",
    "        self.val = x\n",
    "        self.next = None\n",
    "\n",
    "\n",
    "class Solution:\n",
    "    def deleteDuplicates(self, head: ListNode) -> ListNode:\n",
    "        if head is None or head.next is None:\n",
    "            return head\n",
    "        \n",
    "        child = self.deleteDuplicates(head.next)\n",
    "        if child and head.val == child.val:\n",
    "            head.next = child.next\n",
    "            child.next = None\n",
    "            \n",
    "        return head\n",
    "        \n",
    "        "
   ]
  }
 ],
 "metadata": {
  "kernelspec": {
   "display_name": "Python 3",
   "language": "python",
   "name": "python3"
  },
  "language_info": {
   "codemirror_mode": {
    "name": "ipython",
    "version": 3
   },
   "file_extension": ".py",
   "mimetype": "text/x-python",
   "name": "python",
   "nbconvert_exporter": "python",
   "pygments_lexer": "ipython3",
   "version": "3.6.5"
  }
 },
 "nbformat": 4,
 "nbformat_minor": 1
}
