{
 "cells": [
  {
   "cell_type": "code",
   "execution_count": 1,
   "metadata": {
    "collapsed": true
   },
   "outputs": [
    {
     "data": {
      "text/plain": [
       "'给定两个有序整数数组 nums1 和 nums2，将 nums2 合并到 nums1 中，使得 num1 成为一个有序数组。\\n\\n说明:\\n\\n初始化 nums1 和 nums2 的元素数量分别为 m 和 n。\\n你可以假设 nums1 有足够的空间（空间大小大于或等于 m + n）来保存 nums2 中的元素。'"
      ]
     },
     "execution_count": 1,
     "metadata": {},
     "output_type": "execute_result"
    }
   ],
   "source": [
    "\"\"\"给定两个有序整数数组 nums1 和 nums2，将 nums2 合并到 nums1 中，使得 num1 成为一个有序数组。\n",
    "\n",
    "说明:\n",
    "\n",
    "初始化 nums1 和 nums2 的元素数量分别为 m 和 n。\n",
    "你可以假设 nums1 有足够的空间（空间大小大于或等于 m + n）来保存 nums2 中的元素。\"\"\""
   ]
  },
  {
   "cell_type": "code",
   "execution_count": 15,
   "metadata": {},
   "outputs": [],
   "source": [
    "\"\"\"\n",
    "【思路】归并排序的归并思路\n",
    "首先建立一个辅助数组aux，保存nums1[:m]和nums2[:n]\n",
    "i：遍历aux中的nums1的元素,[0:m-1]\n",
    "j：遍历aux中的nums2的元素,[m,m+n-1]\n",
    "k：存放新的合适元素的索引,[0,m+n-1]\n",
    "【复杂度】\n",
    "时间：O(m+n)\n",
    "空间：O(m+n)\n",
    "\"\"\"\n",
    "\n",
    "\n",
    "class Solution:\n",
    "    def merge(self, nums1, m: int, nums2, n: int) -> None:\n",
    "        \"\"\"\n",
    "        Do not return anything, modify nums1 in-place instead.\n",
    "        \"\"\"\n",
    "        aux = [i for i in nums1[:m] + nums2[:n]]\n",
    "        # aux[0...m-1] and aux[m...m+n-1]\n",
    "        i = 0\n",
    "        j = m\n",
    "        k = 0\n",
    "        while k < m + n:\n",
    "            if i > m - 1:  # 左边数组的遍历完了，直接存放右边数组的元素\n",
    "                nums1[k] = aux[j]\n",
    "                j += 1\n",
    "            elif j > m + n - 1:  # 右边数组遍历完了，直接存放左边数组的元素\n",
    "                nums1[k] = aux[i]\n",
    "                i += 1\n",
    "            elif aux[i] < aux[j]:\n",
    "                nums1[k] = aux[i]\n",
    "                i += 1\n",
    "            else:\n",
    "                nums1[k] = aux[j]\n",
    "                j += 1\n",
    "            k += 1\n"
   ]
  },
  {
   "cell_type": "code",
   "execution_count": 22,
   "metadata": {},
   "outputs": [],
   "source": [
    "\"\"\"\n",
    "【思路】能不能减少辅助空间的大小？\n",
    "因为只会修改nums1的引用，没有必要也将nums2拷贝一份。\n",
    "此时存在两个数组：\n",
    "aux = nums1[:m]（深拷贝）\n",
    "nums2（不拷贝）\n",
    "辅助空间大小：O(m)\n",
    "i: aux的遍历指针，[0, m-1]\n",
    "j: nums2的遍历指针，[0,n-1]\n",
    "k: 存放新的元素索引,[0,m+n-1]\n",
    "【将上面的4种情况整合为3种情况讨论】\n",
    "1. i<m && j<n\n",
    "2. i >= m\n",
    "3. j >=n\n",
    "【复杂度】\n",
    "时间：不变\n",
    "空间： O(m)\n",
    "\"\"\"\n",
    "\n",
    "\n",
    "class Solution:\n",
    "    def merge(self, nums1, m: int, nums2, n: int) -> None:\n",
    "        \"\"\"\n",
    "        Do not return anything, modify nums1 in-place instead.\n",
    "        \"\"\"\n",
    "        aux = [i for i in nums1[:m]]\n",
    "        i = 0\n",
    "        j = 0\n",
    "        k = 0\n",
    "\n",
    "        while k < m + n:\n",
    "            if i < m and j < n:\n",
    "                if aux[i] < nums2[j]:\n",
    "                    nums1[k] = aux[i]\n",
    "                    i += 1\n",
    "                else:  # aux[i]>=nums2[j]\n",
    "                    nums1[k] = nums2[j]\n",
    "                    j += 1\n",
    "            elif i >= m:\n",
    "                nums1[k] = nums2[j]\n",
    "                j += 1\n",
    "            else:  # j>=n\n",
    "                nums1[k] = aux[i]\n",
    "                i += 1\n",
    "            k += 1\n"
   ]
  },
  {
   "cell_type": "code",
   "execution_count": 25,
   "metadata": {},
   "outputs": [],
   "source": [
    "\"\"\"\n",
    "【思路】能不能彻底不用辅助空间？\n",
    "nums1本身就有m+n个位置，其中只有前m个有用。那么剩下的n个位置可以利用起来。\n",
    "直接的想法是：将nums1剩下的n个位置，填充上nums2的元素,再原地归并。\n",
    "* 但是注意，这样的话，只利用了nums1的n+m个位置，就和最原始的归并排序一样了，\n",
    "原始的归并排序的归并过程中，直接原地归并写起来很麻烦，同时时间复杂度也不止O(N)\n",
    "所以原始归并中使用辅助空间来归并，空间换时间。\n",
    "* 既然题目中，nums2本身开辟了n个空间，nums1开辟了m+n个空间，\n",
    "已经冗余了一份n个空间。\n",
    "【分析】\n",
    "之所以不能直接原地排序，是因为当前元素不是合适元素时，\n",
    "需要将后面的元素整体移动来插入当前元素来保持有序。\n",
    "* 之前的思路是从小到大来保持有序\n",
    "* 可以从大到小来保持有序，先在nums1的后n个空闲位置填充上最大的元素，往前遍历\n",
    "这样避免了挪动元素。\n",
    "\"\"\"\n",
    "\n",
    "\n",
    "class Solution:\n",
    "    def merge(self, nums1, m: int, nums2, n: int) -> None:\n",
    "        \"\"\"\n",
    "        Do not return anything, modify nums1 in-place instead.\n",
    "        \"\"\"\n",
    "        i = m - 1\n",
    "        j = n - 1\n",
    "        k = m + n - 1\n",
    "        while k >= 0:\n",
    "            if i >= 0 and j >= 0:\n",
    "                if nums1[i] > nums2[j]:\n",
    "                    nums1[k] = nums1[i]\n",
    "                    i -= 1\n",
    "                else:  # nums1[i]<=nums2[j]\n",
    "                    nums1[k] = nums2[j]\n",
    "                    j -= 1\n",
    "            elif i < 0:\n",
    "                nums1[k] = nums2[j]\n",
    "                j -= 1\n",
    "            else:  # j<0 这段其实不必要\n",
    "                nums1[k] = nums1[i]\n",
    "                i -= 1\n",
    "            k -= 1\n"
   ]
  },
  {
   "cell_type": "code",
   "execution_count": 28,
   "metadata": {},
   "outputs": [
    {
     "data": {
      "text/plain": [
       "'\\n【优化】\\n当只剩nums1元素没归并时，其实可以终止了，因为要合并的nums1元素已经在其合理的位置上了。\\n1. i>=0 && j>=0 （两边都没合并完毕）\\n取反后，根据德摩根律有：\\n2. i<0 && j>=0  （右边数组没合并完，左边完毕）\\n3. j<0 && i>=0  （左边数组没合并完，右边完毕）\\n4. i<0 &&j<0 (两个数组合并完毕)\\n可见，只有1.2.3.这三种情况下，需要合并，\\n情形3其实可以进一步省略，因为nums1[i]已经在合理位置上\\n故，只有1.2.两种情形。\\n'"
      ]
     },
     "execution_count": 28,
     "metadata": {},
     "output_type": "execute_result"
    }
   ],
   "source": [
    "\"\"\"\n",
    "【优化】\n",
    "当只剩nums1元素没归并时，其实可以终止了，因为要合并的nums1元素已经在其合理的位置上了。\n",
    "1. i>=0 && j>=0 （两边都没合并完毕）\n",
    "取反后，根据德摩根律有：\n",
    "2. i<0 && j>=0  （右边数组没合并完，左边完毕）\n",
    "3. j<0 && i>=0  （左边数组没合并完，右边完毕）\n",
    "4. i<0 &&j<0 (两个数组合并完毕)\n",
    "可见，只有1.2.3.这三种情况下，需要合并，\n",
    "情形3其实可以进一步省略，因为nums1[i]已经在合理位置上\n",
    "故，只有1.2.两种情形。\n",
    "\"\"\"\n",
    "\n",
    "\n",
    "            \n",
    "        \n"
   ]
  },
  {
   "cell_type": "code",
   "execution_count": 27,
   "metadata": {},
   "outputs": [
    {
     "name": "stdout",
     "output_type": "stream",
     "text": [
      "[1, 2, 2, 3, 5, 6]\n"
     ]
    }
   ],
   "source": [
    "s = Solution()\n",
    "n1 = [1, 2, 3, 0, 0, 0]\n",
    "n2 = [2, 5, 6]\n",
    "m = 3\n",
    "n = 3\n",
    "s.merge(n1, m, n2, n)\n",
    "print(n1)\n"
   ]
  },
  {
   "cell_type": "code",
   "execution_count": 18,
   "metadata": {},
   "outputs": [],
   "source": []
  },
  {
   "cell_type": "code",
   "execution_count": null,
   "metadata": {},
   "outputs": [],
   "source": []
  }
 ],
 "metadata": {
  "kernelspec": {
   "display_name": "Python 2",
   "language": "python",
   "name": "python2"
  },
  "language_info": {
   "codemirror_mode": {
    "name": "ipython",
    "version": 2
   },
   "file_extension": ".py",
   "mimetype": "text/x-python",
   "name": "python",
   "nbconvert_exporter": "python",
   "pygments_lexer": "ipython2",
   "version": "2.7.6"
  }
 },
 "nbformat": 4,
 "nbformat_minor": 0
}
