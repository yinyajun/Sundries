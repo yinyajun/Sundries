{
 "cells": [
  {
   "cell_type": "code",
   "execution_count": 1,
   "metadata": {},
   "outputs": [
    {
     "data": {
      "text/plain": [
       "'给定一个数组 nums 和一个值 val，你需要原地移除所有数值等于 val 的元素，返回移除后数组的新长度。\\n\\n不要使用额外的数组空间，你必须在原地修改输入数组并在使用 O(1) 额外空间的条件下完成。\\n\\n\\n元素的顺序可以改变。你不需要考虑数组中超出新长度后面的元素。'"
      ]
     },
     "execution_count": 1,
     "metadata": {},
     "output_type": "execute_result"
    }
   ],
   "source": [
    "\"\"\"给定一个数组 nums 和一个值 val，你需要原地移除所有数值等于 val 的元素，返回移除后数组的新长度。\n",
    "\n",
    "不要使用额外的数组空间，你必须在原地修改输入数组并在使用 O(1) 额外空间的条件下完成。\n",
    "\n",
    "\n",
    "元素的顺序可以改变。你不需要考虑数组中超出新长度后面的元素。\"\"\"\n"
   ]
  },
  {
   "cell_type": "code",
   "execution_count": 2,
   "metadata": {},
   "outputs": [],
   "source": [
    "\"\"\"\n",
    "【双指针】\n",
    "假设数组长度为N，值为非val的个数为K，值为val的个数为N-K\n",
    "指针i: 遍历数组元素\n",
    "指针j：将要存放新的非val元素的index\n",
    "方法：\n",
    "维护i来遍历数组，当发现nums[i]!=val，将位置i的值和位置j的值交换，然后j++指向新的将要存放非val元素的index。\n",
    "当i遍历完整个数组后，nums[0...K]都是非val的元素，nums[K+1, N-1]都是val\n",
    "交换k次，j的初值为0，所以遍历完后，j=K\n",
    "* 可以保证j和i之间的元素都是val，当i遍历完时，nums[j...]==val\n",
    "\"\"\"\n",
    "\n",
    "\n",
    "class Solution:\n",
    "    def removeElement(self, nums, val: int) -> int:\n",
    "        j = 0\n",
    "        i = 0\n",
    "        while i < len(nums):\n",
    "            if nums[i] != val:\n",
    "                nums[j], nums[i] = nums[i], nums[j]\n",
    "                j += 1\n",
    "            i += 1\n",
    "        return j\n"
   ]
  },
  {
   "cell_type": "code",
   "execution_count": 3,
   "metadata": {},
   "outputs": [],
   "source": [
    "\"\"\"\n",
    "优化1：交换是没必要的，交换将非val放到数组前K位，将val放到数组后面，根据题意超过K的元素是不用管的\n",
    "用赋值代替交换，这样数组后面可能是混乱的，但是前K个一定是所有非val的元素\n",
    "\"\"\"\n",
    "\n",
    "\n",
    "class Solution:\n",
    "    def removeElement(self, nums, val: int) -> int:\n",
    "        j = 0\n",
    "        i = 0\n",
    "        while i < len(nums):\n",
    "            if nums[i] != val:\n",
    "                nums[j] = nums[i]\n",
    "                j += 1\n",
    "            i += 1\n",
    "        return j\n"
   ]
  },
  {
   "cell_type": "code",
   "execution_count": 4,
   "metadata": {},
   "outputs": [],
   "source": [
    "\"\"\"\n",
    "优化2：假如非val的元素非常少，甚至极端点，数组中全是非val的元素，那么会有这么一个现象：i==j很多\n",
    "这样赋值也是没意义的，可以省去。\n",
    "\"\"\"\n",
    "\n",
    "\n",
    "class Solution:\n",
    "    def removeElement(self, nums, val: int) -> int:\n",
    "        j = 0\n",
    "        i = 0\n",
    "        while i < len(nums):\n",
    "            if nums[i] != val:\n",
    "                if i != j:\n",
    "                    nums[j] = nums[i]\n",
    "                j += 1\n",
    "            i += 1\n",
    "        return j\n"
   ]
  },
  {
   "cell_type": "code",
   "execution_count": 4,
   "metadata": {},
   "outputs": [],
   "source": [
    "\"\"\"\n",
    "优化3：同样是优化2的假设，此时虽然赋值操作没有优化余地了，但是j指针仍然不停维护。\n",
    "对一个没有val的数组，此时仍然需要2N次加法操作，2N次赋值操作（维护i,j指针）\n",
    "i指针的维护必须要，j指针的维护有必要吗？当数组中第一个val出现后，j的指针才有维护的必要\n",
    "* 省一点操作，但也花了更多的操作来判断，其实估计没啥优化，最后的返回还要额外判断。\n",
    "\"\"\"\n",
    "\n",
    "\n",
    "class Solution:\n",
    "    def removeElement(self, nums, val: int) -> int:\n",
    "        j = -1  # -1状态表明数组中还没出现val\n",
    "        i = 0\n",
    "        while i < len(nums):\n",
    "            if nums[i] == val and j == -1:\n",
    "                j = i\n",
    "            elif j != -1 and nums[i] != val:\n",
    "                nums[j] = nums[i]\n",
    "                j += 1\n",
    "            i += 1\n",
    "        return len(nums) if j == -1 else j\n"
   ]
  },
  {
   "cell_type": "code",
   "execution_count": 6,
   "metadata": {},
   "outputs": [],
   "source": [
    "\"\"\"\n",
    "抛开题目限制，pythonic的方式是用列表生成式，这才是正常使用时使用的方式。\n",
    "\"\"\"\n",
    "\n",
    "\n",
    "class Solution:\n",
    "    def removeElement(self, nums, val: int):\n",
    "        return [i for i in nums if i != val]\n"
   ]
  },
  {
   "cell_type": "code",
   "execution_count": 5,
   "metadata": {},
   "outputs": [],
   "source": [
    "\"\"\"\n",
    "【双指针2】\n",
    "指针i: 遍历元素\n",
    "指针j: 维护数组长度\n",
    "注意条件所有非val的元素只要在前面，但是顺序可以改变，如何利用这一个条件？\n",
    "当我们遇到 nums[i] = val时，我们可以将当前元素与最后一个元素进行交换，并释放最后一个元素。这实际上使数组的大小减少了 1。\n",
    "请注意，被交换的最后一个元素可能是您想要移除的值。但是不要担心，在下一次迭代中，我们仍然会检查这个元素。(所以只有完成赋值后，才i++)\n",
    "\"\"\"\n",
    "\n",
    "\n",
    "class Solution:\n",
    "    def removeElement(self, nums, val: int):\n",
    "        i = 0\n",
    "        j = len(nums)\n",
    "        while i < j:\n",
    "            if nums[i] == val:\n",
    "                nums[i] = nums[j-1]\n",
    "                print(j)\n",
    "                j -= 1\n",
    "            else:\n",
    "                i += 1\n",
    "        return j\n"
   ]
  },
  {
   "cell_type": "code",
   "execution_count": 6,
   "metadata": {},
   "outputs": [
    {
     "name": "stdout",
     "output_type": "stream",
     "text": [
      "5\n4\n[1, 3, 5, 2, 3]\n3\n"
     ]
    }
   ],
   "source": [
    "s = Solution()\n",
    "n = [1, 2, 5, 2, 3]\n",
    "r = s.removeElement(n, 2)\n",
    "print(n)\n",
    "print(r)\n"
   ]
  },
  {
   "cell_type": "code",
   "execution_count": null,
   "metadata": {},
   "outputs": [],
   "source": []
  }
 ],
 "metadata": {
  "kernelspec": {
   "display_name": "Python 2",
   "language": "python",
   "name": "python2"
  },
  "language_info": {
   "codemirror_mode": {
    "name": "ipython",
    "version": 2
   },
   "file_extension": ".py",
   "mimetype": "text/x-python",
   "name": "python",
   "nbconvert_exporter": "python",
   "pygments_lexer": "ipython2",
   "version": "2.7.6"
  }
 },
 "nbformat": 4,
 "nbformat_minor": 0
}
