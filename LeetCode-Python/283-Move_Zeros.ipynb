{
 "cells": [
  {
   "cell_type": "code",
   "execution_count": null,
   "metadata": {
    "collapsed": true
   },
   "outputs": [],
   "source": [
    "\"\"\"给定一个数组 nums，编写一个函数将所有 0 移动到数组的末尾，同时保持非零元素的相对顺序。\"\"\""
   ]
  },
  {
   "cell_type": "code",
   "execution_count": null,
   "metadata": {},
   "outputs": [],
   "source": [
    "\"\"\"\n",
    "【双指针1】\n",
    "i： 遍历数组\n",
    "j： 将要存放新的非0元素的位置，[0...j-1]存放了遍历到的非0元素\n",
    "用i遍历元素，如果非0，和j位置的元素交换，j++，这样0就被挪到[j...]了。当遍历完时，[0...j-1]都是非零元素，[j...]后面都是零\n",
    "【复杂度】\n",
    "时间： O(n),只要交换非0个数次\n",
    "空间： O(1)\n",
    "\"\"\"\n",
    "\n",
    "\n",
    "class Solution:\n",
    "    def moveZeroes(self, nums: List[int]) -> None:\n",
    "        \"\"\"\n",
    "        Do not return anything, modify nums in-place instead.\n",
    "        \"\"\"\n",
    "        j = 0  # 指向第一个零元素的索引\n",
    "        for i in range(len(nums)):\n",
    "            if nums[i]:\n",
    "                nums[i], nums[j] = nums[j], nums[i]\n",
    "                j += 1\n"
   ]
  },
  {
   "cell_type": "code",
   "execution_count": null,
   "metadata": {},
   "outputs": [],
   "source": [
    "\"\"\"\n",
    "【双指针2】\n",
    "i: 遍历数组\n",
    "j: 将要存放新的非0元素的位置\n",
    "遇到非0，挪到j位置，j++，那么i遍历完后，[0..j-1]都是非0元素，j就是数组中非0元素个数\n",
    "由于用赋值而不是交换，所以[j...]的元素目前还不是全0，直接从[j...]填0即可。\n",
    "【复杂度】\n",
    "时间： O(N)，最好情况也是O(N)，所以不如上面的方法【双指针1】\n",
    "空间： O(1)\n",
    "\"\"\"\n",
    "\n",
    "\n",
    "class Solution:\n",
    "    def moveZeroes(self, nums) -> None:\n",
    "        \"\"\"\n",
    "        Do not return anything, modify nums in-place instead.\n",
    "        \"\"\"\n",
    "        i = 0\n",
    "        j = i\n",
    "        while i < len(nums):\n",
    "            if nums[i]:\n",
    "                nums[j] = nums[i]\n",
    "                j += 1\n",
    "            i += 1\n",
    "        while j < len(nums):\n",
    "            nums[j] = 0\n",
    "            j += 1  # 循环没有递增\n"
   ]
  },
  {
   "cell_type": "code",
   "execution_count": 29,
   "metadata": {},
   "outputs": [],
   "source": [
    "\"\"\"\n",
    "【双指针3】\n",
    "针对【双指针1】的优化，如果全都是非0元素的话，那么时间复杂度是O(N)，但是这个数组其实不用任何操作也能返回。\n",
    "通过添加对是否有非0元素来针对这种情况\n",
    "遇到非0元素前，数组不用动，当遇到非0元素后，j开始初始化，自此，nums[j]用来存储遍历到的非0元素\n",
    "【复杂度】\n",
    "时间： 最坏一样，最好情况只有（第一个0元素后的非0元素个数）次交换，比较当然还是O(N),特别适合数组中仅在末尾处存在0元素;\n",
    "不过每次比较次数增多了，实测反而更慢了。\n",
    "\"\"\"\n",
    "\n",
    "\n",
    "class Solution(object):\n",
    "    def moveZeroes(self, nums):\n",
    "        \"\"\"\n",
    "        :type nums: List[int]\n",
    "        :rtype: None Do not return anything, modify nums in-place instead.\n",
    "        \"\"\"\n",
    "        j = -50\n",
    "        for i in range(len(nums)):\n",
    "            if not nums[i] and j == -50:  # j指向第一个0元素\n",
    "                j = i\n",
    "            if nums[i] and j != -50:\n",
    "                nums[i], nums[j] = nums[j], nums[i]\n",
    "                j += 1\n"
   ]
  },
  {
   "cell_type": "code",
   "execution_count": 27,
   "metadata": {},
   "outputs": [],
   "source": [
    "\"\"\"\n",
    "【比较】\n",
    "更改j指针的含义，代码应该这么写\n",
    "j： 已经存放非0元素的index\n",
    "当首次遇到nums[i]==0，那么j=i-1，j代表已经是第一次遇到0元素前的已经遍历到的非0元素的index\n",
    "因为i属于[0...]， 所以j属于[-1...]。\n",
    "由于j还有另一个功能：表示是否遇到第一个0，所以这个标志数字必须小于-1，随便取了一个-50\n",
    "1. 当遇到0元素，j表示为已经遍历过的非0元素的index；否则，j=-50，表示没遇到非0元素\n",
    "2. 当第一个0元素是i=0,nums[i]==0,此时j=-1，这个j的确没有实际含义。\n",
    "但是，当i继续遍历到的非0元素交换到{已经存放的非0元素的后一位：j+1}，此时j+1是绝对合法的，这也是为什么j更新放在交换前面。\n",
    "【边界辨析】\n",
    "* 上面方法，j最小为0\n",
    "* 下面方法，j最小为-1\n",
    "* 上面方法每次进入循环时，j代表已经存放非0元素的下一位(可以存放新的非0元素的index)，直接交换存放新的非0元素，随后j++指向下一个可以存放新的非0元素的index\n",
    "* 下面方法每次进入循环时，j代表已经存放非0元素的index，要存放新的非0元素，要先j++指向下一个位置，然后交换存放新的非0元素\n",
    "* 上面方法，结束循环后，j代表非0元素index+1（正好是非0元素的个数）\n",
    "* 下面方法，结束循环后，j代表最后一个非0元素的index\n",
    "\"\"\"\n",
    "\n",
    "\n",
    "class Solution(object):\n",
    "    def moveZeroes(self, nums):\n",
    "        \"\"\"\n",
    "        :type nums: List[int]\n",
    "        :rtype: None Do not return anything, modify nums in-place instead.\n",
    "        \"\"\"\n",
    "        j = -50\n",
    "        for i in range(len(nums)):\n",
    "            if not nums[i] and j == -50:  # j指向第一个0元素\n",
    "                j = i - 1\n",
    "            if nums[i] and j != -50:\n",
    "                j += 1\n",
    "                nums[i], nums[j] = nums[j], nums[i]\n"
   ]
  },
  {
   "cell_type": "code",
   "execution_count": 30,
   "metadata": {},
   "outputs": [
    {
     "name": "stdout",
     "output_type": "stream",
     "text": [
      "[1, 3, 12, 0, 0]\n"
     ]
    }
   ],
   "source": [
    "s = Solution()\n",
    "nums = [0, 1, 0, 3, 12]\n",
    "s.moveZeroes(nums)\n",
    "print(nums)"
   ]
  },
  {
   "cell_type": "code",
   "execution_count": null,
   "metadata": {},
   "outputs": [],
   "source": [
    ""
   ]
  }
 ],
 "metadata": {
  "kernelspec": {
   "display_name": "Python 2",
   "language": "python",
   "name": "python2"
  },
  "language_info": {
   "codemirror_mode": {
    "name": "ipython",
    "version": 2
   },
   "file_extension": ".py",
   "mimetype": "text/x-python",
   "name": "python",
   "nbconvert_exporter": "python",
   "pygments_lexer": "ipython2",
   "version": "2.7.6"
  }
 },
 "nbformat": 4,
 "nbformat_minor": 0
}
