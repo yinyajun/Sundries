{
 "cells": [
  {
   "cell_type": "markdown",
   "metadata": {
    "collapsed": true
   },
   "source": [
    "给定一个包含 n 个整数的数组 nums 和一个目标值 target，判断 nums 中是否存在四个元素 a，b，c 和 d ，使得 a + b + c + d 的值与 target 相等？找出所有满足条件且不重复的四元组。\n",
    "\n",
    "注意：\n",
    "\n",
    "答案中不可以包含重复的四元组。\n"
   ]
  },
  {
   "cell_type": "code",
   "execution_count": 1,
   "metadata": {},
   "outputs": [],
   "source": [
    "from typing import List\n",
    "\n",
    "\n",
    "class Solution(object):\n",
    "    def fourSum(self, nums: List[int], target: int) -> List[List[int]]:\n",
    "\n",
    "        length = len(nums)\n",
    "        # result = set()\n",
    "        result = []\n",
    "\n",
    "        # 双指针法使用前提：排序\n",
    "        nums.sort()\n",
    "\n",
    "        for i in range(length - 3):\n",
    "            # 去重（剪枝）\n",
    "            if i > 0 and nums[i] == nums[i - 1]:\n",
    "                continue\n",
    "            # 如果固定数与数组三最小数之和大于target, 则后续循环都是不存在解的, 从遍历中跳出\n",
    "            if nums[i] + sum(nums[i + 1:i + 3 + 1]) > target:\n",
    "                break\n",
    "            # 如果固定数与数组三最大数之和小于taget, 则当前遍历不存在解, 进入下一个遍历\n",
    "            if nums[i] + sum(nums[-1:-3 - 1:-1]) < target:\n",
    "                continue\n",
    "\n",
    "            for j in range(i + 1, length - 2):\n",
    "                # 去重（剪枝）\n",
    "                if j - i > 1 and nums[j] == nums[j - 1]:\n",
    "                    continue\n",
    "                # 如果固定数与数组两最小数之和大于target, 则后续循环都是不存在解的, 从遍历中跳出\n",
    "                if nums[i] + nums[j] + sum(nums[j + 1:j + 2 + 1]) > target:\n",
    "                    break\n",
    "                # 如果固定数与数组两最大数之和小于target, 则当前遍历不存在解, 进入下一个遍历\n",
    "                if nums[i] + nums[j] + sum(nums[-1:-2 - 1:-1]) < target:\n",
    "                    continue\n",
    "\n",
    "                # 双指针法\n",
    "                left, right = j + 1, length - 1\n",
    "                while left < right:\n",
    "                    tmp_sum = nums[i] + nums[j] + nums[left] + nums[right]\n",
    "                    # 如果当前和小于target, 收缩左边界\n",
    "                    if tmp_sum < target:\n",
    "                        left += 1\n",
    "                    # 如果当前和大于target, 收缩左边界\n",
    "                    elif tmp_sum > target:\n",
    "                        right -= 1\n",
    "                    # 如果值相等\n",
    "                    else:\n",
    "                        # 记录解\n",
    "                        # result.add((nums[i], nums[j], nums[left], nums[right], ))\n",
    "                        result.append([nums[i], nums[j], nums[left], nums[right]])\n",
    "\n",
    "                        # 求得正确解后，去重（剪枝）\n",
    "                        while left < right and nums[left] == nums[left + 1]:\n",
    "                            left += 1\n",
    "                        # 求得正确解后，去重（剪枝）\n",
    "                        while left < right and nums[right] == nums[right - 1]:\n",
    "                            right -= 1\n",
    "\n",
    "                        # 在求得正确解，并且剪枝后，仅收缩移动一个指针，都不会是正确解；\n",
    "                        # 因此应收缩移动双指针，直接排除不符合解的情况，减少运算次数\n",
    "                        left += 1\n",
    "                        right -= 1\n",
    "\n",
    "        return result\n"
   ]
  },
  {
   "cell_type": "code",
   "execution_count": null,
   "metadata": {},
   "outputs": [],
   "source": []
  }
 ],
 "metadata": {
  "kernelspec": {
   "display_name": "Python 2",
   "language": "python",
   "name": "python2"
  },
  "language_info": {
   "codemirror_mode": {
    "name": "ipython",
    "version": 2
   },
   "file_extension": ".py",
   "mimetype": "text/x-python",
   "name": "python",
   "nbconvert_exporter": "python",
   "pygments_lexer": "ipython2",
   "version": "2.7.6"
  }
 },
 "nbformat": 4,
 "nbformat_minor": 0
}
