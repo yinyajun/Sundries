{
 "cells": [
  {
   "cell_type": "code",
   "execution_count": 1,
   "metadata": {
    "collapsed": false
   },
   "outputs": [
    {
     "data": {
      "text/plain": [
       "'给定一个含有 n 个正整数的数组和一个正整数 s ，找出该数组中满足其和 ≥ s 的长度最小的连续子数组。如果不存在符合条件的连续子数组，返回 0。'"
      ]
     },
     "execution_count": 1,
     "metadata": {},
     "output_type": "execute_result"
    }
   ],
   "source": [
    "\"\"\"给定一个含有 n 个正整数的数组和一个正整数 s ，找出该数组中满足其和 ≥ s 的长度最小的连续子数组。如果不存在符合条件的连续子数组，返回 0。\"\"\""
   ]
  },
  {
   "cell_type": "code",
   "execution_count": 4,
   "metadata": {},
   "outputs": [],
   "source": [
    "\"\"\"\n",
    "【思路】\n",
    "滑动窗口:没达到s就右边添加元素以达到s，达到s后就左边减少元素以最小化连续子数组长度。\n",
    "【复杂度】\n",
    "时间：O(N)\n",
    "\"\"\"\n",
    "\n",
    "\n",
    "class Solution:\n",
    "    def minSubArrayLen(self, s, nums):\n",
    "        i = 0\n",
    "        j = 0\n",
    "        ml = len(nums) + 1\n",
    "        while i < len(nums) and j < len(nums):\n",
    "            t = sum(nums[i:j + 1])\n",
    "            if t < s:\n",
    "                j += 1\n",
    "            else:\n",
    "                le = j - i + 1\n",
    "                ml = min(ml, le)\n",
    "                i += 1\n",
    "        return 0 if ml > len(nums) else ml\n"
   ]
  },
  {
   "cell_type": "code",
   "execution_count": null,
   "metadata": {},
   "outputs": [],
   "source": [
    "\"\"\"\n",
    "【优化】\n",
    "上面的计算子数组和，每次都直接算，这里面包含许多重复计算。\n",
    "比如滑动窗口添加了一位，只要sum+=new就行了，不需要对整个子数组求和。\n",
    "【错误】\n",
    "1、 滑动数组窗口是[i,j],j是已经存放的右边界，初始时是-1，代表窗口中没有任何值。j+1是将要存放的新的右边界，j+1<len(nums)\n",
    "【复杂度】\n",
    "时间：O(N)，但比上面含有重复计算的好很多\n",
    "【拓展】\n",
    "这同样可以用队列去实现\n",
    "\"\"\"\n",
    "\n",
    "\n",
    "class Solution:\n",
    "    def minSubArrayLen(self, s, nums):\n",
    "        i = 0\n",
    "        j = -1\n",
    "        ss = 0\n",
    "        ml = len(nums) + 1\n",
    "        while i < len(nums):\n",
    "            if ss < s and j + 1 < len(nums):\n",
    "                j += 1\n",
    "                ss += nums[j]\n",
    "            else:\n",
    "                ss -= nums[i]\n",
    "                i += 1\n",
    "            if ss >= s:\n",
    "                le = j - i + 1\n",
    "                ml = min(ml, le)\n",
    "        return 0 if ml > len(nums) else ml\n"
   ]
  },
  {
   "cell_type": "code",
   "execution_count": null,
   "metadata": {},
   "outputs": [],
   "source": [
    "\"\"\"\n",
    "【进阶】\n",
    "能否实现一种O(N * logN)复杂度的算法？\n",
    "1. 不断遍历左边界，每次遍历中，不断二分查找右边界（问题是计算sum的复杂度为N，这样算法的复杂度就是N^2）\n",
    "2. 考虑到计算sum的复杂度已经是N，那么只能用logN次查找\n",
    "如何只用logN次查找？自然想到二分查找，但是二分查找需要有序数组，如何找到有序数组？如果固定起点，发现随着遍历元素\n",
    "* 不断递增的累加和=》这是思路1中的用法，不可行\n",
    "* 不断递增的元素个数（窗口大小）\n",
    "\n",
    "参考leetcode.cn ShawDa同学的解法\n",
    "\n",
    "通过不断二分改变窗口大小，共logN次，对于每个窗口（size为k），使用O(N)的时间去判断：\n",
    "整个数组中，是否存在大小为k的窗口，其和 大于 s？\n",
    "\n",
    "对于上述子问题，就是一个固定窗口，在整个数组中不断右移的过程\n",
    "\"\"\"\n",
    "\n",
    "\n",
    "class Solution:\n",
    "    def minSubArrayLen(self, s, nums):\n",
    "        left, right = 0, len(nums)\n",
    "        res = 0\n",
    "        while left <= right:\n",
    "            mid = left + (right - left) // 2\n",
    "            size = mid  # 窗口大小\n",
    "            if self.contain(size, nums, s):  # 窗口可以缩小 \n",
    "                res = size\n",
    "                right = mid - 1\n",
    "            else:  # 窗口可以扩大\n",
    "                left = mid + 1\n",
    "        return res\n",
    "\n",
    "    def contain(self, size, nums, s):\n",
    "        # 判断nums中是否存在大小为size的窗口，其和大于s\n",
    "        ss = 0\n",
    "        for i in range(len(nums)):\n",
    "            ss += nums[i]\n",
    "            if i >= size:  # 如果ss已经是size个元素和了，腾出最左边的位置给右边新添加的元素\n",
    "                ss -= nums[i - size]\n",
    "            if ss >= s:\n",
    "                return True\n",
    "        return False\n"
   ]
  }
 ],
 "metadata": {
  "kernelspec": {
   "display_name": "Python 2",
   "language": "python",
   "name": "python2"
  },
  "language_info": {
   "codemirror_mode": {
    "name": "ipython",
    "version": 2
   },
   "file_extension": ".py",
   "mimetype": "text/x-python",
   "name": "python",
   "nbconvert_exporter": "python",
   "pygments_lexer": "ipython2",
   "version": "2.7.6"
  }
 },
 "nbformat": 4,
 "nbformat_minor": 0
}
