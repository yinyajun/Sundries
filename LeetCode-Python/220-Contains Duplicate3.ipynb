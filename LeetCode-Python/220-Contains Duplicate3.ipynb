{
 "cells": [
  {
   "cell_type": "markdown",
   "metadata": {
    "collapsed": true
   },
   "source": [
    "给定一个整数数组，判断数组中是否有两个不同的索引 i 和 j，使得 nums [i] 和 nums [j] 的差的绝对值最大为 t，并且 i 和 j 之间的差的绝对值最大为 ķ。\n",
    "\n"
   ]
  },
  {
   "cell_type": "code",
   "execution_count": 2,
   "metadata": {},
   "outputs": [],
   "source": [
    "\"\"\"\n",
    "仿照219的法4思路，时间复杂度是O(tN)，结果超时。\n",
    "\"\"\"\n",
    "\n",
    "from typing import List\n",
    "class Solution:\n",
    "    def containsNearbyAlmostDuplicate(self, nums: List[int], k: int, t: int) -> bool:\n",
    "        length = len(nums)\n",
    "        m = {}\n",
    "        for i in range(length):\n",
    "            for j in range(nums[i]- t, nums[i] + t + 1):\n",
    "                if j in m and i - m[j]<= k:\n",
    "                    return True\n",
    "            m[nums[i]] = i\n",
    "        return False"
   ]
  },
  {
   "cell_type": "markdown",
   "metadata": {},
   "source": [
    "\n",
    "首先分析朴素解法：\n",
    "\n",
    "法1：维护一个k窗口的数组，搜索窗口中的元素和当前元素是否小于等于t\n",
    "因为每次搜索都花费O(min(k,n))的时间，所以时间复杂度是O(nmin(k,n))，超时\n",
    "\n",
    "法2：有没有方法降低搜索的时间复杂度？使用treeSet或treeMap，可以在O(logmin(k,n))的\n",
    "时间复杂度下完成搜索。麻烦的是python标准库中没有。\n",
    "1. 初始化一个空的treeSet\n",
    "2. 对于每个元素\n",
    "    * 在set找到后继节点（大于等于x的最小数）s，如果s-x<=t，则返回true。\n",
    "    * 在set找到前驱节点（小于等于x的最大数）g，如果x-g<=t，则返回true。\n",
    "    * 在set中插入x\n",
    "    * 如果set的size超过k，则移除最旧的元素\n",
    "3. 返回false\n",
    "\n",
    "时间复杂度：O(n log (min(n,k)))\n",
    "\n",
    "```java\n",
    "\n",
    "public boolean containsNearbyAlmostDuplicate(int[] nums, int k, int t) {\n",
    "    TreeSet<Integer> set = new TreeSet<>();\n",
    "    for (int i = 0; i < nums.length; ++i) {\n",
    "        // Find the successor of current element\n",
    "        Integer s = set.ceiling(nums[i]);\n",
    "        if (s != null && s <= nums[i] + t) return true;\n",
    "\n",
    "        // Find the predecessor of current element\n",
    "        Integer g = set.floor(nums[i]);\n",
    "        if (g != null && nums[i] <= g + t) return true;\n",
    "\n",
    "        set.add(nums[i]);\n",
    "        if (set.size() > k) {\n",
    "            set.remove(nums[i - k]);\n",
    "        }\n",
    "    }\n",
    "    return false;\n",
    "}\n",
    "\n",
    "```\n",
    "\n",
    "\n",
    "\n",
    "        "
   ]
  },
  {
   "cell_type": "code",
   "execution_count": null,
   "metadata": {},
   "outputs": [],
   "source": [
    "\"\"\"\n",
    "法3：基于桶排序\n",
    "通过类似桶排序的方法，可以进一步将搜索降低到常数项时间。因为只需要检查当前桶，\n",
    "左右桶这三个桶即可。\n",
    "1. 初始化一个字典来存储桶，桶的大小为t+1\n",
    "2. 对于每一个元素x\n",
    "    * 计算它落入的桶的标号m\n",
    "    * 如果同一个桶m内已有元素，说明肯定有元素离x不超过t，返回True\n",
    "    * 查找相邻的桶m-1，m+1，查看桶中元素离x是否不超过t，满足返回True\n",
    "    * 在字典中插入当前元素所在的桶\n",
    "    * 如果字典size超出k，删除最旧元素所在的桶。\n",
    "3. 返回True\n",
    "\n",
    "时间复杂度是O（n）\n",
    "\"\"\"\n",
    "\n",
    "\n",
    "class Solution:\n",
    "    def containsNearbyAlmostDuplicate(self, nums, k, t):\n",
    "        if t < 0: \n",
    "            return False\n",
    "        n = len(nums)\n",
    "        d = {} # 记录 不同桶中最后一次存放的元素\n",
    "        w = t + 1 # 每个桶的大小\n",
    "        for i in range(n):\n",
    "            m = nums[i] // w\n",
    "            if m in d: # 检查当前桶\n",
    "                return True\n",
    "            if m - 1 in d and abs(nums[i] - d[m - 1]) < w: # 检查左边的桶\n",
    "                return True\n",
    "            if m + 1 in d and abs(nums[i] - d[m + 1]) < w: # 检查右边的桶\n",
    "                return True\n",
    "            d[m] = nums[i] \n",
    "            if i >= k: \n",
    "                del d[nums[i - k] // w]\n",
    "        return False\n"
   ]
  },
  {
   "cell_type": "code",
   "execution_count": 6,
   "metadata": {},
   "outputs": [
    {
     "data": {
      "text/plain": [
       "False"
      ]
     },
     "execution_count": 6,
     "metadata": {},
     "output_type": "execute_result"
    }
   ],
   "source": [
    "s = Solution()\n",
    "nums = [1,5,9,1,5,9]\n",
    "k = 2\n",
    "t = 3\n",
    "s.containsNearbyAlmostDuplicate(nums, k, t)"
   ]
  },
  {
   "cell_type": "code",
   "execution_count": null,
   "metadata": {},
   "outputs": [],
   "source": []
  }
 ],
 "metadata": {
  "kernelspec": {
   "display_name": "Python 3",
   "language": "python",
   "name": "python3"
  },
  "language_info": {
   "codemirror_mode": {
    "name": "ipython",
    "version": 3
   },
   "file_extension": ".py",
   "mimetype": "text/x-python",
   "name": "python",
   "nbconvert_exporter": "python",
   "pygments_lexer": "ipython3",
   "version": "3.6.5"
  }
 },
 "nbformat": 4,
 "nbformat_minor": 1
}
