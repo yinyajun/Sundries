{
 "cells": [
  {
   "cell_type": "code",
   "execution_count": 2,
   "metadata": {
    "collapsed": true
   },
   "outputs": [
    {
     "data": {
      "text/plain": [
       "'给定一个包含红色、白色和蓝色，一共 n 个元素的数组，原地对它们进行排序，使得相同颜色的元素相邻，并按照红色、白色、蓝色顺序排列。\\n\\n此题中，我们使用整数 0、 1 和 2 分别表示红色、白色和蓝色。\\n\\n注意:\\n不能使用代码库中的排序函数来解决这道题。\\n一个直观的解决方案是使用计数排序的两趟扫描算法。\\n首先，迭代计算出0、1 和 2 元素的个数，然后按照0、1、2的排序，重写当前数组。\\n你能想出一个仅使用常数空间的一趟扫描算法吗？\\n\\n'"
      ]
     },
     "execution_count": 2,
     "metadata": {},
     "output_type": "execute_result"
    }
   ],
   "source": [
    "\"\"\"给定一个包含红色、白色和蓝色，一共 n 个元素的数组，原地对它们进行排序，使得相同颜色的元素相邻，并按照红色、白色、蓝色顺序排列。\n",
    "\n",
    "此题中，我们使用整数 0、 1 和 2 分别表示红色、白色和蓝色。\n",
    "\n",
    "注意:\n",
    "不能使用代码库中的排序函数来解决这道题。\n",
    "一个直观的解决方案是使用计数排序的两趟扫描算法。\n",
    "首先，迭代计算出0、1 和 2 元素的个数，然后按照0、1、2的排序，重写当前数组。\n",
    "你能想出一个仅使用常数空间的一趟扫描算法吗？\n",
    "\"\"\""
   ]
  },
  {
   "cell_type": "code",
   "execution_count": 22,
   "metadata": {},
   "outputs": [],
   "source": [
    "\"\"\"\n",
    "【思路】借鉴三路快排\n",
    "ll: [0,ll-1]区间记录0, ll_init =0,保证区间不存在任何元素\n",
    "rr: [rr,N-1]区间记录2，rr_init=N,保证区间不存在任何元素\n",
    "i: 遍历数组\n",
    "【犯错】\n",
    "1.想当然的将i的范围定在了[0,N]\n",
    "其实应该是[ll, rr-1], 因为[0, ll-1]和[rr,N-1]都有存放好的值了，不能乱动\n",
    "2.不管啥情况都i++，忽略交换后的nums[i]还要判断一次\n",
    "* 当nums[i]==1：直接i++\n",
    "* 当nums[i]==0,将nums[i]和nums[ll]交换，由于nums[ll]==1(已经遍历过)，\n",
    "交换后的nums[i]==1,直接i++\n",
    "* 当nums[i]==2,将nums[i]和nums[rr-1]交换,nums[rr-1]没遍历过，\n",
    "所以交换后nums[i]未知，不能直接i++\n",
    "\"\"\"\n",
    "\n",
    "\n",
    "class Solution:\n",
    "    def sortColors(self, nums) -> None:\n",
    "        \"\"\"\n",
    "        Do not return anything, modify nums in-place instead.\n",
    "        \"\"\"\n",
    "        ll = 0\n",
    "        rr = len(nums)\n",
    "        i = ll\n",
    "        while i < rr:\n",
    "            if nums[i] == 1:\n",
    "                i += 1\n",
    "            elif nums[i] == 0:\n",
    "                nums[i], nums[ll] = nums[ll], nums[i]\n",
    "                ll += 1\n",
    "                i += 1\n",
    "            else:\n",
    "                assert (nums[i] == 2)\n",
    "                nums[i], nums[rr - 1] = nums[rr - 1], nums[i]\n",
    "                rr -= 1\n"
   ]
  },
  {
   "cell_type": "code",
   "execution_count": 23,
   "metadata": {},
   "outputs": [
    {
     "name": "stdout",
     "output_type": "stream",
     "text": [
      "[0]\n"
     ]
    }
   ],
   "source": [
    "s = Solution()\n",
    "n = [0]\n",
    "s.sortColors(n)\n",
    "print(n)\n"
   ]
  },
  {
   "cell_type": "code",
   "execution_count": 17,
   "metadata": {},
   "outputs": [],
   "source": []
  },
  {
   "cell_type": "code",
   "execution_count": null,
   "metadata": {},
   "outputs": [],
   "source": []
  }
 ],
 "metadata": {
  "kernelspec": {
   "display_name": "Python 2",
   "language": "python",
   "name": "python2"
  },
  "language_info": {
   "codemirror_mode": {
    "name": "ipython",
    "version": 2
   },
   "file_extension": ".py",
   "mimetype": "text/x-python",
   "name": "python",
   "nbconvert_exporter": "python",
   "pygments_lexer": "ipython2",
   "version": "2.7.6"
  }
 },
 "nbformat": 4,
 "nbformat_minor": 0
}
