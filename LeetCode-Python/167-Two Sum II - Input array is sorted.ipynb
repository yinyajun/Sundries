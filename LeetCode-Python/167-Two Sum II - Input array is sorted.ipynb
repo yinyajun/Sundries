{
 "cells": [
  {
   "cell_type": "code",
   "execution_count": 1,
   "metadata": {
    "collapsed": true
   },
   "outputs": [
    {
     "data": {
      "text/plain": [
       "'给定一个已按照升序排列 的有序数组，找到两个数使得它们相加之和等于目标数。\\n\\n函数应该返回这两个下标值 index1 和 index2，其中 index1 必须小于 index2。'"
      ]
     },
     "execution_count": 1,
     "metadata": {},
     "output_type": "execute_result"
    }
   ],
   "source": [
    "\"\"\"给定一个已按照升序排列 的有序数组，找到两个数使得它们相加之和等于目标数。\n",
    "\n",
    "函数应该返回这两个下标值 index1 和 index2，其中 index1 必须小于 index2。\"\"\""
   ]
  },
  {
   "cell_type": "code",
   "execution_count": 6,
   "metadata": {},
   "outputs": [],
   "source": [
    "\"\"\"\n",
    "【思路】指针对撞\n",
    "【复杂度】\n",
    "时间： O(N)\n",
    "\"\"\"\n",
    "\n",
    "class Solution:\n",
    "    def twoSum(self, numbers, target: int):\n",
    "        assert len(numbers) >= 2\n",
    "        i = 0\n",
    "        j = len(numbers) - 1\n",
    "\n",
    "        while i < j:\n",
    "            s = numbers[i] + numbers[j]\n",
    "            if s == target:\n",
    "                return [i+1, j+1]\n",
    "            elif s < target:\n",
    "                i += 1\n",
    "            else:\n",
    "                j -= 1\n",
    "        return [-1, -1]\n"
   ]
  },
  {
   "cell_type": "code",
   "execution_count": 14,
   "metadata": {},
   "outputs": [],
   "source": [
    "\"\"\"\n",
    "【普通思路】\n",
    "遍历元素nums[i]，在剩下的数组中，查找target-nums[i](二分查找)\n",
    "【复杂度】\n",
    "时间： O(N*logN)\n",
    "\"\"\"\n",
    "\n",
    "\n",
    "class Solution:\n",
    "    def twoSum(self, numbers, target: int):\n",
    "        assert len(numbers) >= 2\n",
    "        for i in range(len(numbers)):\n",
    "            t = self.findSum1(numbers[i + 1:], target - numbers[i])\n",
    "            if t != -1:\n",
    "                return [i + 1, i + t + 2]\n",
    "        return [-1, -1]\n",
    "\n",
    "    def twoSum2(self, numbers, target: int):\n",
    "        assert len(numbers) >= 2\n",
    "        for i in range(len(numbers)):\n",
    "            t = self.findSum2(numbers, 0, len(numbers) - 1, target - numbers[i])\n",
    "            if t != -1:\n",
    "                return [i + 1, t + 1]\n",
    "        return [-1, -1]\n",
    "\n",
    "    def findSum1(self, nums, target):\n",
    "        ll = 0\n",
    "        rr = len(nums) - 1\n",
    "\n",
    "        while ll <= rr:\n",
    "            mid = ll + (rr - ll) // 2\n",
    "            if nums[mid] == target:\n",
    "                return mid\n",
    "            elif nums[mid] < target:\n",
    "                ll = mid + 1\n",
    "            else:  # nums[mid] > target\n",
    "                rr = mid - 1\n",
    "        return -1\n",
    "\n",
    "    def findSum2(self, nums, ll, rr, target):\n",
    "        mid = ll + (rr - ll) // 2\n",
    "\n",
    "        if ll <= rr:\n",
    "            if nums[mid] == target:\n",
    "                return mid\n",
    "            elif nums[mid] < target:\n",
    "                return self.findSum2(nums, mid + 1, rr, target)\n",
    "            else:\n",
    "                return self.findSum2(nums, ll, mid - 1, target)\n",
    "        return -1\n"
   ]
  },
  {
   "cell_type": "code",
   "execution_count": 15,
   "metadata": {},
   "outputs": [
    {
     "name": "stdout",
     "output_type": "stream",
     "text": [
      "[1, 2]\n"
     ]
    }
   ],
   "source": [
    "s = Solution()\n",
    "n = [2, 7, 11, 15]\n",
    "print(s.twoSum2(n, 9))\n"
   ]
  },
  {
   "cell_type": "code",
   "execution_count": null,
   "metadata": {},
   "outputs": [],
   "source": []
  }
 ],
 "metadata": {
  "kernelspec": {
   "display_name": "Python 2",
   "language": "python",
   "name": "python2"
  },
  "language_info": {
   "codemirror_mode": {
    "name": "ipython",
    "version": 2
   },
   "file_extension": ".py",
   "mimetype": "text/x-python",
   "name": "python",
   "nbconvert_exporter": "python",
   "pygments_lexer": "ipython2",
   "version": "2.7.6"
  }
 },
 "nbformat": 4,
 "nbformat_minor": 0
}
