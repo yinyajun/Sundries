{
 "cells": [
  {
   "cell_type": "code",
   "execution_count": 1,
   "metadata": {
    "collapsed": true
   },
   "outputs": [
    {
     "data": {
      "text/plain": [
       "'编写一个函数，以字符串作为输入，反转该字符串中的元音字母。'"
      ]
     },
     "execution_count": 1,
     "metadata": {},
     "output_type": "execute_result"
    }
   ],
   "source": [
    "\"\"\"编写一个函数，以字符串作为输入，反转该字符串中的元音字母。\"\"\""
   ]
  },
  {
   "cell_type": "code",
   "execution_count": 3,
   "metadata": {},
   "outputs": [],
   "source": [
    "\"\"\"\n",
    "【思路】对撞指针\n",
    "【犯错】\n",
    "string类型是不可变类型，不可以像list一样修改某个元素\n",
    "先转换为list。\n",
    "\"\"\"\n",
    "\n",
    "\n",
    "class Solution:\n",
    "    def reverseVowels(self, s: str) -> str:\n",
    "        s = list(s)\n",
    "        i = 0\n",
    "        j = len(s) - 1\n",
    "        while i < j:\n",
    "            if not self.isVowel(s[i]):\n",
    "                i += 1\n",
    "                continue\n",
    "            if not self.isVowel(s[j]):\n",
    "                j -= 1\n",
    "                continue\n",
    "            s[i], s[j] = s[j], s[i]\n",
    "            i += 1\n",
    "            j -= 1\n",
    "        return ''.join(s)\n",
    "\n",
    "    def isVowel(self, char):\n",
    "        if char.lower() in ['a', 'e', 'i', 'o', 'u']:\n",
    "            return True\n",
    "        return False\n"
   ]
  },
  {
   "cell_type": "code",
   "execution_count": null,
   "metadata": {},
   "outputs": [],
   "source": []
  }
 ],
 "metadata": {
  "kernelspec": {
   "display_name": "Python 2",
   "language": "python",
   "name": "python2"
  },
  "language_info": {
   "codemirror_mode": {
    "name": "ipython",
    "version": 2
   },
   "file_extension": ".py",
   "mimetype": "text/x-python",
   "name": "python",
   "nbconvert_exporter": "python",
   "pygments_lexer": "ipython2",
   "version": "2.7.6"
  }
 },
 "nbformat": 4,
 "nbformat_minor": 0
}
