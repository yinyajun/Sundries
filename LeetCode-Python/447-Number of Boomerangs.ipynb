{
 "cells": [
  {
   "cell_type": "markdown",
   "metadata": {
    "collapsed": true
   },
   "source": [
    "给定平面上 n 对不同的点，“回旋镖” 是由点表示的元组 (i, j, k) ，其中 i 和 j 之间的距离和 i 和 k 之间的距离相等（**需要考虑元组的顺序**）。\n",
    "\n",
    "找到所有回旋镖的数量。你可以假设 n 最大为 500，所有点的坐标在闭区间 [-10000, 10000] 中。\n",
    "\n",
    "示例:\n",
    "\n",
    "输入:\n",
    "[[0,0],[1,0],[2,0]]\n",
    "\n",
    "输出:\n",
    "2\n",
    "\n",
    "解释:\n",
    "两个回旋镖为 [[1,0],[0,0],[2,0]] 和 [[1,0],[2,0],[0,0]]\n",
    "\n"
   ]
  },
  {
   "cell_type": "code",
   "execution_count": 35,
   "metadata": {},
   "outputs": [],
   "source": [
    "\"\"\"\n",
    "暴力解法O(N^3)\n",
    "通过循环固定一个点，然后遍历其他点和该点的距离并存入字典。这样降低为O(N^2)\n",
    "\"\"\"\n",
    "\n",
    "from typing import List\n",
    "class Solution:\n",
    "    def numberOfBoomerangs(self, points: List[List[int]]) -> int:\n",
    "        cnt = 0\n",
    "        for p in points:\n",
    "            rec = {} # 每次遍历新的元素时需要重新设置\n",
    "            for q in points:\n",
    "                if p==q:\n",
    "                    continue\n",
    "\n",
    "                d = dist(p, q)\n",
    "                if d not in rec:\n",
    "                    rec[d] = 0\n",
    "                rec[d] += 1\n",
    "            s = sum([v*(v-1) for v in rec.values() if v>1]) # C_N^2\n",
    "            cnt += s\n",
    "        return cnt\n",
    "        \n",
    "\n",
    "def dist(x, y):\n",
    "    return (x[0]-y[0])* (x[0]-y[0]) + (x[1]-y[1])*(x[1]-y[1])"
   ]
  },
  {
   "cell_type": "code",
   "execution_count": 36,
   "metadata": {},
   "outputs": [
    {
     "data": {
      "text/plain": [
       "2"
      ]
     },
     "execution_count": 36,
     "metadata": {},
     "output_type": "execute_result"
    }
   ],
   "source": [
    "s = Solution()\n",
    "s.numberOfBoomerangs([[0,0],[1,0],[2,0]])"
   ]
  },
  {
   "cell_type": "code",
   "execution_count": null,
   "metadata": {},
   "outputs": [],
   "source": []
  }
 ],
 "metadata": {
  "kernelspec": {
   "display_name": "Python 3",
   "language": "python",
   "name": "python3"
  },
  "language_info": {
   "codemirror_mode": {
    "name": "ipython",
    "version": 3
   },
   "file_extension": ".py",
   "mimetype": "text/x-python",
   "name": "python",
   "nbconvert_exporter": "python",
   "pygments_lexer": "ipython3",
   "version": "3.6.5"
  }
 },
 "nbformat": 4,
 "nbformat_minor": 1
}
