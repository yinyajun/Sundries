{
 "cells": [
  {
   "cell_type": "code",
   "execution_count": 1,
   "metadata": {
    "collapsed": true
   },
   "outputs": [
    {
     "data": {
      "text/plain": [
       "'给定一个排序数组，你需要在原地删除重复出现的元素，使得每个元素只出现一次，返回移除后数组的新长度。\\n\\n不要使用额外的数组空间，你必须在原地修改输入数组并在使用 O(1) 额外空间的条件下完成。'"
      ]
     },
     "execution_count": 1,
     "metadata": {},
     "output_type": "execute_result"
    }
   ],
   "source": [
    "\"\"\"给定一个排序数组，你需要在原地删除重复出现的元素，使得每个元素只出现一次，返回移除后数组的新长度。\n",
    "\n",
    "不要使用额外的数组空间，你必须在原地修改输入数组并在使用 O(1) 额外空间的条件下完成。\"\"\"    "
   ]
  },
  {
   "cell_type": "code",
   "execution_count": 51,
   "metadata": {},
   "outputs": [],
   "source": [
    "\"\"\"\n",
    "【双指针】\n",
    "i: 遍历元素\n",
    "j: 将要存放新的非重复元素的index\n",
    "考察有序数组，遍历元素时，如果后一个元素大于前一个元素，则后一个元素是新元素，将其放到j位置\n",
    "【注意】\n",
    "1. 当nums[i]>nums[i-1]时，保存nums[i]到j位置，注意i-1不越界，则i>=1，但是i=0的元素一定是新元素，也要注意保存\n",
    "2. 注意nums=[]，nums数组越界问题\n",
    "\"\"\"\n",
    "\n",
    "\n",
    "class Solution:\n",
    "    def removeDuplicates2(self, nums) -> int:\n",
    "        i = 0\n",
    "        j = 0\n",
    "        if len(nums) >= 1:\n",
    "            nums[j] = nums[i]\n",
    "            j += 1\n",
    "            i += 1\n",
    "            while i < len(nums):\n",
    "                if nums[i] > nums[i - 1]:\n",
    "                    nums[j] = nums[i]\n",
    "                    j += 1\n",
    "                i += 1\n",
    "        return j\n"
   ]
  },
  {
   "cell_type": "code",
   "execution_count": 6,
   "metadata": {},
   "outputs": [],
   "source": [
    "\"\"\"\n",
    "【优化】当数组有空，直接返回j（j=0）；当遍历的元素是第一个或者是新元素，保存到j位置\n",
    "边界条件为什么这么写？翻看283的辨析。\n",
    "\"\"\"\n",
    "\n",
    "\n",
    "class Solution:\n",
    "    def removeDuplicates2(self, nums) -> int:\n",
    "        i = 0\n",
    "        j = 0\n",
    "        while i < len(nums):\n",
    "            if i == 0 or nums[i] > nums[i - 1]:\n",
    "                nums[j] = nums[i]\n",
    "                j += 1\n",
    "            i += 1\n",
    "        return j\n"
   ]
  },
  {
   "cell_type": "code",
   "execution_count": 24,
   "metadata": {},
   "outputs": [],
   "source": [
    "\"\"\"\n",
    "【双指针2】\n",
    "i: 遍历\n",
    "j: 已经存储的非重复元素的index\n",
    "【注意】\n",
    "这里和【双指针1】最大不同是j的含义，一个是先加再赋值，一个是先赋值再加。这就造成了含义的不同：\n",
    "先加再赋值，j指向的是存储非重复元素的index\n",
    "先赋值再加，j指向的是存储非重复元素的index+1（也就是非重复元素的个数）\n",
    "翻看283的辨析。\n",
    "\"\"\"\n",
    "\n",
    "\n",
    "class Solution:\n",
    "    def removeDuplicates2(self, nums) -> int:\n",
    "        i = 0\n",
    "        j = -1\n",
    "        while i < len(nums):\n",
    "            if nums[i] != nums[j] or j == -1:\n",
    "                j += 1\n",
    "                nums[j] = nums[i]\n",
    "            i += 1\n",
    "        ret = j + 1\n",
    "        return ret\n"
   ]
  },
  {
   "cell_type": "code",
   "execution_count": 25,
   "metadata": {},
   "outputs": [
    {
     "name": "stdout",
     "output_type": "stream",
     "text": [
      "1\n[1]\n"
     ]
    }
   ],
   "source": [
    "s = Solution()\n",
    "# n2 = [1]\n",
    "n2 = [1]\n",
    "a = s.removeDuplicates2(n2)\n",
    "print(a)\n",
    "print(n2)\n"
   ]
  },
  {
   "cell_type": "code",
   "execution_count": 19,
   "metadata": {},
   "outputs": [
    {
     "name": "stdout",
     "output_type": "stream",
     "text": [
      "[1, 2, 3, 4, 5, 3, 4, 4, 5]\n5\n"
     ]
    }
   ],
   "source": [
    "s = Solution()\n",
    "n1 = [1, 2, 2, 3, 3, 3, 4, 4, 5]\n",
    "a = s.removeDuplicates2(n1)\n",
    "\n",
    "print(n1)\n",
    "\n",
    "print(a)\n",
    "\n"
   ]
  },
  {
   "cell_type": "code",
   "execution_count": null,
   "metadata": {},
   "outputs": [],
   "source": []
  }
 ],
 "metadata": {
  "kernelspec": {
   "display_name": "Python 3",
   "language": "python",
   "name": "python3"
  },
  "language_info": {
   "codemirror_mode": {
    "name": "ipython",
    "version": 3
   },
   "file_extension": ".py",
   "mimetype": "text/x-python",
   "name": "python",
   "nbconvert_exporter": "python",
   "pygments_lexer": "ipython3",
   "version": "3.5.2"
  }
 },
 "nbformat": 4,
 "nbformat_minor": 1
}
