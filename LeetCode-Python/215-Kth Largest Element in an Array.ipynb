{
 "cells": [
  {
   "cell_type": "code",
   "execution_count": 1,
   "metadata": {
    "collapsed": true
   },
   "outputs": [
    {
     "data": {
      "text/plain": [
       "'在未排序的数组中找到第 k 个最大的元素。请注意，你需要找的是数组排序后的第 k 个最大的元素，而不是第 k 个不同的元素。'"
      ]
     },
     "execution_count": 1,
     "metadata": {},
     "output_type": "execute_result"
    }
   ],
   "source": [
    "\"\"\"在未排序的数组中找到第 k 个最大的元素。请注意，你需要找的是数组排序后的第 k 个最大的元素，而不是第 k 个不同的元素。\"\"\""
   ]
  },
  {
   "cell_type": "code",
   "execution_count": 22,
   "metadata": {},
   "outputs": [],
   "source": [
    "\"\"\"\n",
    "【思路】利用大小为k的小顶堆，不断向其添加元素，当元素大于堆顶元素时，插入堆。\n",
    "最后剩下的k个一定是前k大的元素（更小的都挤走了）\n",
    "此时堆顶是k个最大的元素中最小的一个，也就是第k个最大的元素\n",
    "【复杂度】\n",
    "时间：O(N * logK)\n",
    "空间：O(K)\n",
    "\"\"\"\n",
    "\n",
    "\n",
    "class Solution:\n",
    "    def findKthLargest(self, nums: List[int], k: int) -> int:\n",
    "        import heapq\n",
    "        pq = []\n",
    "        for num in nums:\n",
    "            if len(pq) < k:\n",
    "                heapq.heappush(pq, num)\n",
    "            else:\n",
    "                if num > pq[0]:\n",
    "                    heapq.heapreplace(pq, num)\n",
    "        return pq[0]\n"
   ]
  },
  {
   "cell_type": "code",
   "execution_count": 12,
   "metadata": {},
   "outputs": [],
   "source": [
    "\"\"\"\n",
    "【思路】我们只要求第k个，而上面的方法其实求了前k个。所以上面的方法复杂度很高。\n",
    "能不能使用O(N)的方法，直接求出第k个。\n",
    "借鉴快排的partition函数的思路。\n",
    "【纠错】\n",
    "1. partition:第一个位置是pivot，所以i的起始位置应该是l+1\n",
    "2. partition返回的pivot的index，这里要求左边区域比pivot大（降序）\n",
    "3. 一定要随机化\n",
    "【其他思路】\n",
    "1. partition3是另一种partition写法（指针对撞）。\n",
    "2. 二分查找用了两种不同的递归写法。\n",
    "\"\"\"\n",
    "\n",
    "\n",
    "class Solution:\n",
    "    def findKthLargest(self, nums, k: int) -> int:\n",
    "        return self.findKRecusive(nums, 0, len(nums) - 1, k)\n",
    "\n",
    "    def findKthLargest2(self, nums, k: int) -> int:\n",
    "        l = 0\n",
    "        r = len(nums) - 1\n",
    "\n",
    "        while l <= r:\n",
    "            index = self.partition3(nums, l, r)\n",
    "            if index + 1 == k:\n",
    "                return nums[index]\n",
    "            elif index + 1 < k:\n",
    "                l = index + 1\n",
    "            else:\n",
    "                r = index - 1\n",
    "\n",
    "    def findKRecusive(self, nums, l, r, k):\n",
    "        if l > r:\n",
    "            return -1\n",
    "\n",
    "        index = self.partition2(nums, l, r)\n",
    "        if index + 1 == k:\n",
    "            return nums[index]\n",
    "        if index + 1 < k:\n",
    "            return self.findKRecusive(nums, index + 1, r, k)\n",
    "        else:  # index + 1 > k\n",
    "            return self.findKRecusive(nums, l, index - 1, k)\n",
    "\n",
    "    @staticmethod\n",
    "    def partition(nums, l, r):\n",
    "        import random\n",
    "        t = random.randint(l, r)\n",
    "        nums[l], nums[t] = nums[t], nums[l]\n",
    "        # 返回p，nums[l...p] < nums[p], nums[p+1...r]>nums[p]\n",
    "        pivot = nums[l]\n",
    "        # [l+1, i-1]<pivot, [i...k)>=pivot\n",
    "        i = l + 1  # left array is empty\n",
    "        k = i  # right array is empty too\n",
    "        while k <= r:\n",
    "            if nums[k] < pivot:\n",
    "                nums[i], nums[k] = nums[k], nums[i]\n",
    "                i += 1\n",
    "            k += 1\n",
    "        nums[l], nums[i - 1] = nums[i - 1], nums[l]\n",
    "        return i - 1\n",
    "\n",
    "    @staticmethod\n",
    "    def partition2(nums, l, r):\n",
    "        import random\n",
    "        t = random.randint(l, r)\n",
    "        nums[l], nums[t] = nums[t], nums[l]\n",
    "        # 返回p，nums[l...p] > nums[p], nums[p+1...r]<nums[p]\n",
    "        pivot = nums[l]\n",
    "        # [l+1, i-1]>pivot, [i...k)<=pivot\n",
    "        i = l + 1  # left array is empty\n",
    "        k = i  # right array is empty too\n",
    "        while k <= r:\n",
    "            if nums[k] > pivot:\n",
    "                nums[i], nums[k] = nums[k], nums[i]\n",
    "                i += 1\n",
    "            k += 1\n",
    "        nums[l], nums[i - 1] = nums[i - 1], nums[l]\n",
    "        return i - 1\n",
    "\n",
    "    @staticmethod\n",
    "    def partition3(nums, l, r):\n",
    "        import random\n",
    "        t = random.randint(l, r)\n",
    "        nums[r], nums[t] = nums[t], nums[r]\n",
    "        pi = r\n",
    "        r -= 1\n",
    "        # [...l)>pivot  (r...]<=pivot\n",
    "        while l <= r:\n",
    "            if nums[l] <= nums[pi] < nums[r]:\n",
    "                nums[l], nums[r] = nums[r], nums[l]\n",
    "            elif nums[l] > nums[pi]:\n",
    "                l += 1\n",
    "            else:\n",
    "                r -= 1\n",
    "        nums[l], nums[pi] = nums[pi], nums[l]\n",
    "        return l\n"
   ]
  },
  {
   "cell_type": "code",
   "execution_count": 11,
   "metadata": {},
   "outputs": [
    {
     "name": "stdout",
     "output_type": "stream",
     "text": [
      "-1\n[1, 2, 3, 5, 6, 4]\n"
     ]
    }
   ],
   "source": [
    "s = Solution()\n",
    "n = [3, 2, 1, 5, 6, 4]\n",
    "k = 2\n",
    "r = s.findKthLargest(n, k)\n",
    "print(r)\n",
    "print(n)\n"
   ]
  },
  {
   "cell_type": "code",
   "execution_count": 20,
   "metadata": {},
   "outputs": [],
   "source": [
    ""
   ]
  },
  {
   "cell_type": "code",
   "execution_count": 21,
   "metadata": {},
   "outputs": [
    {
     "data": {
      "text/plain": [
       "[1, 4, 2, 7, 8, 3]"
      ]
     },
     "execution_count": 21,
     "metadata": {},
     "output_type": "execute_result"
    }
   ],
   "source": [
    "a"
   ]
  },
  {
   "cell_type": "code",
   "execution_count": null,
   "metadata": {},
   "outputs": [],
   "source": []
  }
 ],
 "metadata": {
  "kernelspec": {
   "display_name": "Python 2",
   "language": "python",
   "name": "python2"
  },
  "language_info": {
   "codemirror_mode": {
    "name": "ipython",
    "version": 2
   },
   "file_extension": ".py",
   "mimetype": "text/x-python",
   "name": "python",
   "nbconvert_exporter": "python",
   "pygments_lexer": "ipython2",
   "version": "2.7.6"
  }
 },
 "nbformat": 4,
 "nbformat_minor": 0
}
