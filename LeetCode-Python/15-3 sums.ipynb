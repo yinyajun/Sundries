{
 "cells": [
  {
   "cell_type": "markdown",
   "metadata": {
    "collapsed": true
   },
   "source": [
    "给定一个包含 n 个整数的数组 nums，判断 nums 中是否存在三个元素 a，b，c ，使得 a + b + c = 0 ？找出所有满足条件且不重复的三元组。"
   ]
  },
  {
   "cell_type": "code",
   "execution_count": 12,
   "metadata": {},
   "outputs": [],
   "source": [
    "\"\"\"借鉴two sum的思路，时间复杂度O(N^2)\n",
    "因为测试用例中会有一个长度超长的全0数组，这样情况下N^2复杂度也不能接受。\n",
    "考虑这个特例的话，必须跳过重复情况，所以多使用一个visited字典来帮助剪枝\n",
    "\n",
    "这样，遍历nums数组的时候，并不是对每一个成员num进行two sum查找，\n",
    "而是针对num的取值(而且num还得是是非负的)，如果有这种num取值就加入visited，\n",
    "避免下次对同样的num去进行two sum查找。\n",
    "这样虽然复杂度还是O(N^2)，但是该特殊用例，可以降到O(N)左右的复杂度\n",
    "\"\"\"\n",
    "\n",
    "\n",
    "class Solution:\n",
    "    def threeSum(self, nums):\n",
    "        ret = set()\n",
    "        visited = {}\n",
    "        for i, j in enumerate(nums):\n",
    "            if j <= 0 and j not in visited:\n",
    "                visited[j] = 1\n",
    "                c = self.twoSum(nums, -j)\n",
    "                for idx1, idx2 in c:\n",
    "                    if i != idx1 and i != idx2:\n",
    "                        tmp = tuple(sorted([nums[i], nums[idx1], nums[idx2]]))\n",
    "                        ret.add(tmp)\n",
    "        return list(ret)\n",
    "\n",
    "    def twoSum(self, nums, target):\n",
    "        idxDict = dict()\n",
    "        idx_list = []\n",
    "        for idx, num in enumerate(nums):\n",
    "            if target - num in idxDict:\n",
    "                idx_list.append([idxDict[target - num], idx])\n",
    "            idxDict[num] = idx\n",
    "        return idx_list\n"
   ]
  },
  {
   "cell_type": "code",
   "execution_count": 33,
   "metadata": {},
   "outputs": [],
   "source": [
    "\"\"\"\n",
    "[思路]仍然是结合two sum的思路\n",
    "这里有点不同的是，这里通过先排序，然后针对有序数组的方式做剪枝。\n",
    "\"\"\"\n",
    "\n",
    "\n",
    "class Solution:\n",
    "    def twoSum(self, nums, target):\n",
    "        idxDict = dict()\n",
    "        idx_list = []\n",
    "        for idx, num in enumerate(nums):\n",
    "            if target - num in idxDict:\n",
    "                idx_list.append([idxDict[target - num], idx])\n",
    "            idxDict[num] = idx\n",
    "        return idx_list\n",
    "\n",
    "    def threeSum(self, num):\n",
    "        num.sort()\n",
    "        res = dict()\n",
    "        result = []\n",
    "        for i in range(len(num) - 2):  # 遍历至倒数第三个（剪枝）\n",
    "            if (i == 0 or num[i] > num[i - 1]) and num[i] <= 0:  # 只检索不重复并且目标数（第一个数）小于等于0的情况\n",
    "                left = i + 1\n",
    "                # right = len(num) - 1\n",
    "                result_idx = self.twoSum(num[left:], -num[i])\n",
    "                for each_idx in result_idx:  # 数组后方切片后给twoSum\n",
    "                    each_result = [num[i], num[each_idx[0] + (i + 1)], num[each_idx[1] + (i + 1)]]\n",
    "                    if str(each_result) not in res:\n",
    "                        res[str(each_result)] = each_result\n",
    "        for value in res.values():\n",
    "            result.append(value)\n",
    "        return result\n"
   ]
  },
  {
   "cell_type": "code",
   "execution_count": null,
   "metadata": {},
   "outputs": [],
   "source": [
    "\"\"\"\n",
    "imckl的解法：https://leetcode-cn.com/problems/4sum/solution/python-shuang-zhi-zhen-fa-zhu-yi-jian-zhi-yi-ji-pa/\n",
    "用循环固定住一个数，然后在通过双指针找到其他两个数。\n",
    "主要在于对剪枝的考虑\n",
    "\"\"\"\n",
    "\n",
    "\n",
    "class Solution:\n",
    "    def threeSum(self, nums):\n",
    "        nums.sort()\n",
    "        result = []\n",
    "\n",
    "        length = len(nums)\n",
    "        for i in range(length - 2):\n",
    "            # 去重，确保固定元素不重复（剪枝）\n",
    "            if i > 0 and nums[i] == nums[i - 1]:\n",
    "                continue\n",
    "            # 固定元素和数组中两个最小元素的三者之和大于target，则后面循环不可能有解\n",
    "            if nums[i] + sum(nums[i + 1:i + 2 + 1]) > 0:\n",
    "                break\n",
    "            # 固定元素和数组中两个最大元素的三个之和小于target，则本次循环不存在解\n",
    "            if nums[i] + sum(nums[-1:-2 - 1:-1]) < 0:\n",
    "                continue\n",
    "\n",
    "            # 双指针法\n",
    "            print(nums[i])\n",
    "            left, right = i + 1, length - 1\n",
    "            while left < right:\n",
    "                tmp_sum = nums[i] + left + right\n",
    "                if tmp_sum < 0:\n",
    "                    left += 1\n",
    "                elif tmp_sum > 0:\n",
    "                    right -= 1\n",
    "                else:\n",
    "                    result.append([nums[i], nums[left], nums[right]])\n",
    "                    # 避免重复检索，剪枝\n",
    "                    while left < right and nums[left + 1] == nums[left]:\n",
    "                        left += 1\n",
    "                    while left < right and nums[right] == nums[right - 1]:\n",
    "                        right -= 1\n",
    "\n",
    "                    left += 1\n",
    "                    right -= 1\n",
    "        return result\n"
   ]
  },
  {
   "cell_type": "code",
   "execution_count": 1,
   "metadata": {},
   "outputs": [],
   "source": [
    "class Solution:\n",
    "    def threeSum(self, nums):\n",
    "        dic = {}\n",
    "        for num in nums:\n",
    "            if num not in dic:\n",
    "                dic[num] = 0\n",
    "            dic[num] += 1\n",
    "        if 0 in dic and dic[0] > 2:\n",
    "            res = [[0, 0, 0]]\n",
    "        else:\n",
    "            res = []\n",
    "        positive_num = [p for p in dic if p > 0]\n",
    "        negative_num = [n for n in dic if n < 0]\n",
    "        for p in positive_num:\n",
    "            for n in negative_num:\n",
    "                inverse = -(p + n)\n",
    "                if inverse in dic:\n",
    "                    if (inverse == p or inverse == n) and dic[p] > 1:  # 同个数字\n",
    "                        res.append([p, n, inverse])\n",
    "                    elif inverse > p or inverse < n or inverse == 0:  # 避免解重复\n",
    "                        print((p, n, inverse))\n",
    "                        res.append([p, n, inverse])\n",
    "        return res\n"
   ]
  },
  {
   "cell_type": "code",
   "execution_count": 13,
   "metadata": {},
   "outputs": [
    {
     "data": {
      "text/plain": [
       "[[-4, -3, -2]]"
      ]
     },
     "execution_count": 13,
     "metadata": {},
     "output_type": "execute_result"
    }
   ],
   "source": [
    "s = Solution()\n",
    "nums = [-4, -2, -2, -2, 0, 0, 0, -1, 1, 2, 2, 2, 3, 3, 4, 4, 6, 6, -3]\n",
    "# nums = [1, 0, -1]\n",
    "ret = s.threeSum(nums)\n",
    "ret\n"
   ]
  },
  {
   "cell_type": "code",
   "execution_count": 5,
   "metadata": {},
   "outputs": [],
   "source": []
  },
  {
   "cell_type": "code",
   "execution_count": null,
   "metadata": {},
   "outputs": [],
   "source": []
  }
 ],
 "metadata": {
  "kernelspec": {
   "display_name": "Python 3",
   "language": "python",
   "name": "python3"
  },
  "language_info": {
   "codemirror_mode": {
    "name": "ipython",
    "version": 3
   },
   "file_extension": ".py",
   "mimetype": "text/x-python",
   "name": "python",
   "nbconvert_exporter": "python",
   "pygments_lexer": "ipython3",
   "version": "3.6.5"
  }
 },
 "nbformat": 4,
 "nbformat_minor": 1
}
