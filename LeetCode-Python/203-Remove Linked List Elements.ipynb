{
 "cells": [
  {
   "cell_type": "markdown",
   "metadata": {
    "collapsed": true
   },
   "source": [
    "删除链表中等于给定值 val 的所有节点。\n",
    "\n",
    "示例:\n",
    "\n",
    "输入: 1->2->6->3->4->5->6, val = 6\n",
    "\n",
    "输出: 1->2->3->4->5"
   ]
  },
  {
   "cell_type": "code",
   "execution_count": null,
   "metadata": {},
   "outputs": [],
   "source": [
    "class ListNode:\n",
    "    def __init__(self, x):\n",
    "        self.val = x\n",
    "        self.next = None\n",
    "\n",
    "class Solution:\n",
    "    def removeElements(self, head: ListNode, val: int) -> ListNode:\n",
    "        dummy_head = ListNode(None)\n",
    "        dummy_head.next = head\n",
    "        \n",
    "        pre = dummy_head\n",
    "        cur = head\n",
    "        \n",
    "        while cur:\n",
    "            if cur.val == val:\n",
    "                pre.next = cur.next\n",
    "                cur.next = None\n",
    "                cur = pre.next\n",
    "                continue\n",
    "                \n",
    "            pre = pre.next\n",
    "            cur = pre.next\n",
    "        return dummy_head.next\n",
    "        \n",
    "        "
   ]
  }
 ],
 "metadata": {
  "kernelspec": {
   "display_name": "Python 3",
   "language": "python",
   "name": "python3"
  },
  "language_info": {
   "codemirror_mode": {
    "name": "ipython",
    "version": 3
   },
   "file_extension": ".py",
   "mimetype": "text/x-python",
   "name": "python",
   "nbconvert_exporter": "python",
   "pygments_lexer": "ipython3",
   "version": "3.6.5"
  }
 },
 "nbformat": 4,
 "nbformat_minor": 1
}
