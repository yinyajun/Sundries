{
 "cells": [
  {
   "cell_type": "code",
   "execution_count": 1,
   "metadata": {
    "collapsed": true
   },
   "outputs": [
    {
     "data": {
      "text/plain": [
       "'给定一个字符串 s 和一个非空字符串 p，找到 s 中所有是 p 的字母异位词的子串，返回这些子串的起始索引。\\n\\n字符串只包含小写英文字母，并且字符串 s 和 p 的长度都不超过 20100。\\n\\n说明：\\n\\n字母异位词指字母相同，但排列不同的字符串。\\n不考虑答案输出的顺序。'"
      ]
     },
     "execution_count": 1,
     "metadata": {},
     "output_type": "execute_result"
    }
   ],
   "source": [
    "\"\"\"给定一个字符串 s 和一个非空字符串 p，找到 s 中所有是 p 的字母异位词的子串，返回这些子串的起始索引。\n",
    "\n",
    "字符串只包含小写英文字母，并且字符串 s 和 p 的长度都不超过 20100。\n",
    "\n",
    "说明：\n",
    "\n",
    "字母异位词指字母相同，但排列不同的字符串。\n",
    "不考虑答案输出的顺序。\"\"\""
   ]
  },
  {
   "cell_type": "code",
   "execution_count": 2,
   "metadata": {},
   "outputs": [],
   "source": [
    "\"\"\"\n",
    "【思路】对s的每个元素i，先复制p到k，以i为首的len(p)个元素，逐个判断是否在k中，如果在就将这个元素从k中删除，不在就结束i为首的这次循环\n",
    "如果一次遍历中，k能为空（j能判断结束），则加入ret\n",
    "\n",
    "【优化】\n",
    "1. i的循环变量可以在提前结束，不用循环到最后，只要循环到len(s)-len(p)\n",
    "2. 一旦发现j不在k中，结束这次遍历，i进入下次遍历\n",
    "\n",
    "【错误】\n",
    "1. 对正在循环的数组做删除是十分危险的\n",
    "2. set作为滑动窗口：如果p中有大量重复元素，p='aaaaaa',将会判断出错，如s=\"a\"，也会认为是正确结果\n",
    "3. 提前终止循环使得j可能遍历不到p的最后一个元素，这正是判断要不要加进ret的条件\n",
    "\n",
    "【结果】\n",
    "超时\n",
    "\n",
    "【复杂度】\n",
    "时间复杂度：O(N * K)\n",
    "空间复杂度：O(K)\n",
    "K=len(p) 如果K很大，接近N的话，那么复杂度是O(N^2)级别的，但是N最大为20100，\n",
    "这种情况下的N^2的算法不能接受。\n",
    "\"\"\"\n",
    "\n",
    "\n",
    "class Solution:\n",
    "    def findAnagrams(self, s: str, p: str):\n",
    "        ret = []\n",
    "        for i in range(len(s) - len(p) + 1):\n",
    "            k = list(p)\n",
    "            for j in range(len(p)):\n",
    "                if i + j < len(s) and s[i + j] in k:\n",
    "                    k.remove(s[i + j])\n",
    "                else:\n",
    "                    break\n",
    "                if j == len(p) - 1:\n",
    "                    ret.append(i)\n",
    "        return ret\n"
   ]
  },
  {
   "cell_type": "code",
   "execution_count": 13,
   "metadata": {},
   "outputs": [],
   "source": [
    "\"\"\"\n",
    "【思路】\n",
    "注意到字符串中仅有小写英文字母\n",
    "使用hashmap作为滑动窗口而不是list。\n",
    "\n",
    "【错误】\n",
    "虽然现在滑动窗口是hashset，但是每次遍历s都新建一个hashset，总复杂度\n",
    "仍然是O(N * K), 这不是真正的滑动窗口，而是每次滑动，都建了一个新窗口。\n",
    "\n",
    "**滑动窗口要义**：不仅仅是滑动，而且每次滑动，窗口大部分内容不变来减少复杂度，仅改变少量因为滑动\n",
    "而增删的元素，来更新滑动窗口。\n",
    "\n",
    "【超时】\n",
    "\"\"\"\n",
    "\n",
    "\n",
    "class Solution:\n",
    "    def findAnagrams(self, s: str, p: str):\n",
    "        ret = []\n",
    "        from collections import defaultdict\n",
    "        p_d = defaultdict(int)\n",
    "        for i in p:\n",
    "            p_d[i] += 1\n",
    "        for j in range(len(s) - len(p) + 1):\n",
    "            s_d = defaultdict(int)\n",
    "            for k in range(len(p)):\n",
    "                s_d[s[k + j]] += 1\n",
    "            try:\n",
    "                assert s_d == p_d\n",
    "            except AssertionError:\n",
    "                continue\n",
    "            ret.append(j)\n",
    "        return ret\n"
   ]
  },
  {
   "cell_type": "code",
   "execution_count": 3,
   "metadata": {},
   "outputs": [],
   "source": [
    "\"\"\"\n",
    "根据上面的几次错误示范：\n",
    "滑动窗口的大部分内容是不动的，只更新因为滑动而造成的元素的增删。\n",
    "【思路】\n",
    "1. 将p先存成hashmap p_d\n",
    "2. [i,j]是s上的滑动窗口，将滑动窗口的内容存入hashmap s_d\n",
    "3. 将s[j]加入滑动窗口，更新滑动窗口\n",
    "4. 如果s_d==p_d，说明此时滑动窗口是满足（异位词）\n",
    "5. 将滑动窗口左侧s[i]去除，以便可以添加新的s[j]\n",
    "6. i++, j++\n",
    "\n",
    "【注意】 上面思路忽略了一些边界条件。j元素实际上没有使用，使用了foreach遍历的s，但原理一样\n",
    "1. 滑动窗口的更新 需要添加元素 和 删除元素。\n",
    "2. 滑动窗口的边界，i,j的含义和 i，j更新的顺序 以及 i,j的初值， 对比注释代码和283 Move Zeros的边界辨析。\n",
    "\"\"\"\n",
    "\n",
    "\n",
    "# class Solution:\n",
    "#     def findAnagrams(self, s: str, p: str):\n",
    "#         ret = []\n",
    "#         i, j = -len(p), 0\n",
    "#         p_d = {}\n",
    "#         for m in p:\n",
    "#             p_d[m] = p_d.get(m, 0) + 1\n",
    "#         s_d = {}\n",
    "#         for n in s:\n",
    "#             s_d[n] = s_d.get(n, 0) + 1\n",
    "#             i += 1\n",
    "#             if i >= 0:\n",
    "#                 if s_d == p_d:\n",
    "#                     ret.append(i)\n",
    "#                 s_d[s[i]] = s_d[s[i]] - 1\n",
    "#                 if s_d[s[i]] == 0:\n",
    "#                     del s_d[s[i]]\n",
    "# \n",
    "#         return ret\n",
    "\n",
    "class Solution:\n",
    "    def findAnagrams(self, s: str, p: str):\n",
    "        ret = []\n",
    "        i, j = -len(p) + 1, 0\n",
    "        p_d = {}\n",
    "        for m in p:\n",
    "            p_d[m] = p_d.get(m, 0) + 1\n",
    "        s_d = {}\n",
    "        for n in s:\n",
    "            s_d[n] = s_d.get(n, 0) + 1\n",
    "            if i >= 0:  # s_d有len(p)的长度\n",
    "                if s_d == p_d:\n",
    "                    ret.append(i)\n",
    "                s_d[s[i]] = s_d[s[i]] - 1\n",
    "                if s_d[s[i]] == 0:\n",
    "                    del s_d[s[i]]\n",
    "            i += 1\n",
    "        return ret\n"
   ]
  },
  {
   "cell_type": "code",
   "execution_count": null,
   "metadata": {},
   "outputs": [],
   "source": [
    "\"\"\"\n",
    "【核心】不仅滑动窗口是增量变化，和目标对比，也是增量对比，进一步降低复杂度，这是真正的O(N)复杂度\n",
    "【思路】\n",
    "仿照76的做法，s上使用[i,j)维护一个滑动窗口，p上维护一个频数字典\n",
    "每当s上滑动窗口遍历到一个字母，p字典对应字母的频数减1\n",
    "当p字典所有字母对应的频数<=0时，说明s上的滑动窗口包含p中所有字母\n",
    "* 如果滑动窗口遍历的字母不在p中，p字典也会将相应的字母频数减1，字母频数可能为负数，负数的含义是滑动窗口中包含的无效字母出现的频数的相反数。\n",
    "* 每次判断s上的滑动窗口包含p中所有字母需要遍历p字典，使用p_len辅助，那么只要O(1)的复杂度就能判断，p_len是记录p字典中频数大于1的数目，\n",
    "    随着滑动窗口的遍历，频数减小，p_len减小，当p_len==0,说明滑动窗口包含p中所有字母。\n",
    "但是，包含p不代表就是异构词，同时要求滑动窗口的长度和p的长度一样，这样才是异构词\n",
    "* 滑动窗口中可能包含不是p中的无效字母，这是要除去的，也就是要缩小滑动窗口。\n",
    "* 缩小到什么时候？缩小到某个左边界对应字母的p字典的频数为0，频数为负数的字母一定是无效字母，频数为正数说明不完全包含p的该字母，频数为0说明正好包含p中该字母\n",
    "* 此时，如果滑动窗口的长度等于p的长度，它一定是解。\n",
    "* 继续缩小窗口，以便形成新的滑动窗口。\n",
    "【错误】\n",
    "* 边界问题又错了，调用p_d[s[i]]前先i++,这样s[i]已经改变了，不应该。\n",
    "\"\"\"\n",
    "from collections import defaultdict\n",
    "\n",
    "\n",
    "class Solution:\n",
    "    def findAnagrams(self, s: str, p: str):\n",
    "        ret = []\n",
    "        i, j = 0, 0\n",
    "        # [i,j)是异位词\n",
    "        p_d = defaultdict(int)\n",
    "        for k in p:\n",
    "            p_d[k] += 1\n",
    "        p_len = len(p)\n",
    "        while j < len(s):\n",
    "            if p_d[s[j]] > 0:\n",
    "                p_len -= 1\n",
    "            p_d[s[j]] -= 1\n",
    "            if p_len == 0:  # 窗口中已经包含p\n",
    "                while p_d[s[i]] < 0:\n",
    "                    p_d[s[i]] += 1\n",
    "                    i += 1\n",
    "                # print(i, j, p_d)\n",
    "                # j已经被包含，此时 [i,j]满足长度 == len(p)的话，就是异构词\n",
    "                if j - i + 1 == len(p):\n",
    "                    ret.append(i)\n",
    "\n",
    "                p_d[s[i]] += 1\n",
    "                p_len += 1\n",
    "                i += 1\n",
    "            j += 1\n",
    "\n",
    "        return ret\n"
   ]
  },
  {
   "cell_type": "code",
   "execution_count": 5,
   "metadata": {},
   "outputs": [
    {
     "data": {
      "text/plain": [
       "[1]"
      ]
     },
     "execution_count": 5,
     "metadata": {},
     "output_type": "execute_result"
    }
   ],
   "source": [
    "s = Solution()\n",
    "s.findAnagrams(\"baa\", \"aa\")"
   ]
  },
  {
   "cell_type": "code",
   "execution_count": null,
   "metadata": {},
   "outputs": [],
   "source": []
  }
 ],
 "metadata": {
  "kernelspec": {
   "display_name": "Python 2",
   "language": "python",
   "name": "python2"
  },
  "language_info": {
   "codemirror_mode": {
    "name": "ipython",
    "version": 2
   },
   "file_extension": ".py",
   "mimetype": "text/x-python",
   "name": "python",
   "nbconvert_exporter": "python",
   "pygments_lexer": "ipython2",
   "version": "2.7.6"
  }
 },
 "nbformat": 4,
 "nbformat_minor": 0
}
