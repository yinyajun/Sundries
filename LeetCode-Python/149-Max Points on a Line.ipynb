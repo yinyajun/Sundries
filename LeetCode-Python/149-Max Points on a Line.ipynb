{
 "cells": [
  {
   "cell_type": "markdown",
   "metadata": {
    "collapsed": true
   },
   "source": [
    "给定一个二维平面，平面上有 n 个点，求最多有多少个点在同一条直线上。"
   ]
  },
  {
   "cell_type": "code",
   "execution_count": 87,
   "metadata": {},
   "outputs": [],
   "source": [
    "\"\"\"\n",
    "用字典存储相同斜率的点\n",
    "如果遇到相同的点，特殊处理。\n",
    "但是这里遇到一个大问题：浮点误差。\n",
    "测试用例[[0,0],[94911151,94911150],[94911152,94911151]]\n",
    "这3点不共线，但是算出的斜率相同，因为误差极小，超出了float的范围\n",
    "\"\"\"\n",
    "\n",
    "from typing import List\n",
    "class Solution:\n",
    "    def maxPoints(self, points: List[List[int]]) -> int:\n",
    "        max_p = 0\n",
    "        for p in points:\n",
    "            rec = {}\n",
    "            for q in points:\n",
    "                if q!=p:\n",
    "                    if p[0] == q[0]:\n",
    "                        k = \"inf\"\n",
    "                    else:\n",
    "                        k = (p[1]-q[1])/ (p[0]-q[0])\n",
    "                    if k not in rec:\n",
    "                        rec[k] = 0\n",
    "                    rec[k]+=1\n",
    "            for q in points:\n",
    "                if p==q:\n",
    "                    if len(rec)==0:\n",
    "                        rec['inf'] = 1\n",
    "                    else:\n",
    "                        for k in rec:\n",
    "                            rec[k] += 1\n",
    "            print(rec)\n",
    "            m = max(rec.values(), default=0)\n",
    "            max_p = max(max_p, m)\n",
    "        return max_p"
   ]
  },
  {
   "cell_type": "code",
   "execution_count": 240,
   "metadata": {},
   "outputs": [],
   "source": [
    "from typing import List\n",
    "from collections import Counter, defaultdict\n",
    "\n",
    "class Solution:\n",
    "    def maxPoints(self, points: List[List[int]]) -> int:\n",
    "        points_dict = Counter(tuple(p) for p in points)\n",
    "        non_repeated = list(points_dict.keys())\n",
    "        n = len(non_repeated)\n",
    "        if n == 1:  # 如果仅有一个点，下面的循环将不会进入\n",
    "            return points_dict[non_repeated[0]]\n",
    "        cnt = 0\n",
    "        \n",
    "        # 总次数 1+2+...+(n-1)= n*(n-1)/2\n",
    "        # 对应于 n^2矩阵的上三角。\n",
    "        for i in range(n-1): # 遍历n-1个点\n",
    "            k_dict = defaultdict(int)\n",
    "            for j in range(i+1, n): # 遍历i到n的点\n",
    "                dy = non_repeated[j][1] - non_repeated[i][1]\n",
    "                dx = non_repeated[j][0] - non_repeated[i][0]\n",
    "                if dx == 0:\n",
    "                    k = \"inf\"\n",
    "                else:\n",
    "                    k = dy/dx\n",
    "                k_dict[k] += points_dict[non_repeated[j]]\n",
    "            cnt = max(cnt, max(k_dict.values()) + points_dict[non_repeated[i]])\n",
    "        return cnt\n",
    "        \n",
    "        "
   ]
  },
  {
   "cell_type": "code",
   "execution_count": 205,
   "metadata": {},
   "outputs": [],
   "source": [
    "class Solution:\n",
    "    def maxPoints(self, points: List[List[int]]) -> int:\n",
    "        from collections import Counter, defaultdict\n",
    "        # 所有点统计\n",
    "        points_dict = Counter(tuple(point) for point in points)\n",
    "        # 把唯一点列举出来\n",
    "        not_repeat_points = list(points_dict.keys())\n",
    "        n = len(not_repeat_points)\n",
    "        # 如果只有一个重复的点\n",
    "        if n == 1: \n",
    "            return points_dict[not_repeat_points[0]]\n",
    "        res = 0\n",
    "\n",
    "        for i in range(n - 1):\n",
    "            x1, y1 = not_repeat_points[i][0], not_repeat_points[i][1]\n",
    "            slope = defaultdict(int)\n",
    "            for j in range(i + 1, n):\n",
    "                x2, y2 = not_repeat_points[j][0], not_repeat_points[j][1]\n",
    "                dy, dx = y2 - y1, x2 - x1\n",
    "                g = gcd(dy, dx)\n",
    "                if g != 0:\n",
    "                    dy //= g\n",
    "                    dx //= g\n",
    "                slope[\"{}/{}\".format(dy, dx)] += points_dict[not_repeat_points[j]]\n",
    "            res = max(res, max(slope.values()) + points_dict[not_repeat_points[i]])\n",
    "        return res\n",
    "    \n",
    "# 求最大公约数\n",
    "\n",
    "def gcd(x, y):\n",
    "    if y == 0:\n",
    "        return x\n",
    "    else:\n",
    "        return gcd(y, x % y)\n",
    "\n"
   ]
  },
  {
   "cell_type": "markdown",
   "metadata": {},
   "source": [
    "辗转相除法简单证明：\n",
    "对（a,b）求最大公约数m，设a>b\n",
    "记 m|a为m是a的约数\n",
    "存在m，使m|a,m|b\n",
    "记a = b + r（r=a%b）\n",
    "则m|b+r\n",
    "即 m|b, m|r\n",
    "等效于求 （b,r）的最大公约数"
   ]
  },
  {
   "cell_type": "code",
   "execution_count": 241,
   "metadata": {},
   "outputs": [
    {
     "data": {
      "text/plain": [
       "2"
      ]
     },
     "execution_count": 241,
     "metadata": {},
     "output_type": "execute_result"
    }
   ],
   "source": [
    "s = Solution()\n",
    "s.maxPoints([[0,0],[0,1]])"
   ]
  },
  {
   "cell_type": "code",
   "execution_count": 242,
   "metadata": {},
   "outputs": [
    {
     "data": {
      "text/plain": [
       "0"
      ]
     },
     "execution_count": 242,
     "metadata": {},
     "output_type": "execute_result"
    }
   ],
   "source": [
    "s.maxPoints([])"
   ]
  },
  {
   "cell_type": "code",
   "execution_count": 243,
   "metadata": {},
   "outputs": [
    {
     "data": {
      "text/plain": [
       "2"
      ]
     },
     "execution_count": 243,
     "metadata": {},
     "output_type": "execute_result"
    }
   ],
   "source": [
    "s.maxPoints([[0,0],[0,0]])"
   ]
  },
  {
   "cell_type": "code",
   "execution_count": 244,
   "metadata": {},
   "outputs": [
    {
     "data": {
      "text/plain": [
       "3"
      ]
     },
     "execution_count": 244,
     "metadata": {},
     "output_type": "execute_result"
    }
   ],
   "source": [
    "s.maxPoints([[0,0],[1,1],[0,0]])"
   ]
  },
  {
   "cell_type": "code",
   "execution_count": 245,
   "metadata": {},
   "outputs": [
    {
     "data": {
      "text/plain": [
       "3"
      ]
     },
     "execution_count": 245,
     "metadata": {},
     "output_type": "execute_result"
    }
   ],
   "source": [
    "s.maxPoints([[0,0],[94911151,94911150],[94911152,94911151]])"
   ]
  },
  {
   "cell_type": "code",
   "execution_count": 246,
   "metadata": {},
   "outputs": [
    {
     "data": {
      "text/plain": [
       "1"
      ]
     },
     "execution_count": 246,
     "metadata": {},
     "output_type": "execute_result"
    }
   ],
   "source": [
    "s.maxPoints([[0,0]])"
   ]
  },
  {
   "cell_type": "code",
   "execution_count": null,
   "metadata": {},
   "outputs": [],
   "source": []
  },
  {
   "cell_type": "code",
   "execution_count": null,
   "metadata": {},
   "outputs": [],
   "source": []
  }
 ],
 "metadata": {
  "kernelspec": {
   "display_name": "Python 3",
   "language": "python",
   "name": "python3"
  },
  "language_info": {
   "codemirror_mode": {
    "name": "ipython",
    "version": 3
   },
   "file_extension": ".py",
   "mimetype": "text/x-python",
   "name": "python",
   "nbconvert_exporter": "python",
   "pygments_lexer": "ipython3",
   "version": "3.6.5"
  }
 },
 "nbformat": 4,
 "nbformat_minor": 1
}
