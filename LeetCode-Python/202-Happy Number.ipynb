{
 "cells": [
  {
   "cell_type": "code",
   "execution_count": 1,
   "metadata": {},
   "outputs": [
    {
     "data": {
      "text/plain": [
       "'编写一个算法来判断一个数是不是“快乐数”。\\n\\n一个“快乐数”定义为：\\n对于一个正整数，每一次将该数替换为它每个位置上的数字的平方和，\\n然后重复这个过程直到这个数变为 1，也可能是无限循环但始终变不到 1。\\n如果可以变为 1，那么这个数就是快乐数。\\n'"
      ]
     },
     "execution_count": 1,
     "metadata": {},
     "output_type": "execute_result"
    }
   ],
   "source": [
    "\"\"\"编写一个算法来判断一个数是不是“快乐数”。\n",
    "\n",
    "一个“快乐数”定义为：\n",
    "对于一个正整数，每一次将该数替换为它每个位置上的数字的平方和，\n",
    "然后重复这个过程直到这个数变为 1，也可能是无限循环但始终变不到 1。\n",
    "如果可以变为 1，那么这个数就是快乐数。\n",
    "\"\"\""
   ]
  },
  {
   "cell_type": "code",
   "execution_count": 2,
   "metadata": {},
   "outputs": [],
   "source": [
    "\"\"\"\n",
    "【思路】\n",
    "一位数的各个位置数字平方和上界为9^2\n",
    "两位数的各个位置数字平方和上界为2* 9^2\n",
    "三位数的各个位置数字平方和上界为3* 9^2\n",
    "而int32是十位数，上界为10 * 9^2，这是一个三位数，最后还是会收缩到3*9^2范围。\n",
    "也就是说，数字不会发散。\n",
    "\n",
    "由于数字是有限的，非快乐数不然会有重复数字，用set检测重复数字即可\n",
    "\"\"\"\n",
    "\n",
    "class Solution:\n",
    "    def isHappy(self, n: int):\n",
    "        unseen = set()\n",
    "        while n != 1:\n",
    "            n = self.calc(n)\n",
    "            if n in unseen:\n",
    "                return False\n",
    "            unseen.add(n)\n",
    "        return True\n",
    "\n",
    "    def calc(self, n):\n",
    "        sum = 0\n",
    "        while n > 0:\n",
    "            e = n % 10\n",
    "            sum += e ** 2\n",
    "            n = n // 10\n",
    "        return sum\n"
   ]
  },
  {
   "cell_type": "code",
   "execution_count": 3,
   "metadata": {},
   "outputs": [
    {
     "data": {
      "text/plain": [
       "True"
      ]
     },
     "execution_count": 3,
     "metadata": {},
     "output_type": "execute_result"
    }
   ],
   "source": [
    "s = Solution()\n",
    "s.isHappy(19)"
   ]
  },
  {
   "cell_type": "code",
   "execution_count": null,
   "metadata": {},
   "outputs": [],
   "source": []
  }
 ],
 "metadata": {
  "kernelspec": {
   "display_name": "Python 3",
   "language": "python",
   "name": "python3"
  },
  "language_info": {
   "codemirror_mode": {
    "name": "ipython",
    "version": 3
   },
   "file_extension": ".py",
   "mimetype": "text/x-python",
   "name": "python",
   "nbconvert_exporter": "python",
   "pygments_lexer": "ipython3",
   "version": "3.6.5"
  }
 },
 "nbformat": 4,
 "nbformat_minor": 2
}
