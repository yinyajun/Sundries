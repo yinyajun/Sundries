{
 "cells": [
  {
   "cell_type": "code",
   "execution_count": 2,
   "metadata": {},
   "outputs": [
    {
     "data": {
      "text/plain": [
       "'给定一种规律 pattern\\xa0和一个字符串\\xa0str\\xa0，判断 str 是否遵循相同的规律。\\n\\n这里的\\xa0遵循\\xa0指完全匹配，例如，\\xa0pattern\\xa0里的每个字母和\\n字符串\\xa0str\\xa0中的每个非空单词之间存在着双向连接的对应规律。\\n\\n'"
      ]
     },
     "execution_count": 2,
     "metadata": {},
     "output_type": "execute_result"
    }
   ],
   "source": [
    "\"\"\"给定一种规律 pattern 和一个字符串 str ，判断 str 是否遵循相同的规律。\n",
    "\n",
    "这里的 遵循 指完全匹配，例如， pattern 里的每个字母和\n",
    "字符串 str 中的每个非空单词之间存在着双向连接的对应规律。\n",
    "\n",
    "\"\"\""
   ]
  },
  {
   "cell_type": "code",
   "execution_count": 3,
   "metadata": {},
   "outputs": [],
   "source": [
    "from collections import defaultdict\n",
    "\n",
    "class Solution:\n",
    "    def wordPattern(self, pattern, str):\n",
    "        ss = str.split(\" \")\n",
    "        if len(pattern) != len(ss):\n",
    "            return False\n",
    "        d = defaultdict(int)\n",
    "        p = defaultdict(int)\n",
    "        print(list(zip(pattern, ss)))\n",
    "        for i, j in zip(pattern, ss):\n",
    "            if d[i] != 0 and j!=d[i]:\n",
    "                return False\n",
    "            elif p[j] != 0 and i!=p[j]:\n",
    "                return False\n",
    "            d[i] = j\n",
    "            p[j] = i\n",
    "        return True"
   ]
  },
  {
   "cell_type": "code",
   "execution_count": 4,
   "metadata": {},
   "outputs": [
    {
     "name": "stdout",
     "output_type": "stream",
     "text": [
      "[('a', 'dog'), ('b', 'cat'), ('b', 'cat'), ('a', 'dog')]\n"
     ]
    },
    {
     "data": {
      "text/plain": [
       "True"
      ]
     },
     "execution_count": 4,
     "metadata": {},
     "output_type": "execute_result"
    }
   ],
   "source": [
    "s = Solution()\n",
    "s.wordPattern(\"abba\", \"dog cat cat dog\")"
   ]
  },
  {
   "cell_type": "code",
   "execution_count": 10,
   "metadata": {},
   "outputs": [],
   "source": [
    "from collections import defaultdict\n",
    "\n",
    "class Solution:\n",
    "    def wordPattern(self, pattern, str):\n",
    "        ss = str.split(\" \")\n",
    "        if len(pattern) != len(ss):\n",
    "            return False\n",
    "        for i in range(len(pattern)):\n",
    "            if pattern.find(pattern[i])!= ss.index(ss[i]):\n",
    "                return False\n",
    "        return True"
   ]
  },
  {
   "cell_type": "code",
   "execution_count": 11,
   "metadata": {},
   "outputs": [
    {
     "data": {
      "text/plain": [
       "True"
      ]
     },
     "execution_count": 11,
     "metadata": {},
     "output_type": "execute_result"
    }
   ],
   "source": [
    "s = Solution()\n",
    "s.wordPattern(\"abba\", \"dog cat cat dog\")"
   ]
  },
  {
   "cell_type": "code",
   "execution_count": 9,
   "metadata": {},
   "outputs": [],
   "source": [
    "a = [1,23,3]"
   ]
  },
  {
   "cell_type": "code",
   "execution_count": null,
   "metadata": {},
   "outputs": [],
   "source": [
    "a.index"
   ]
  }
 ],
 "metadata": {
  "kernelspec": {
   "display_name": "Python 3",
   "language": "python",
   "name": "python3"
  },
  "language_info": {
   "codemirror_mode": {
    "name": "ipython",
    "version": 3
   },
   "file_extension": ".py",
   "mimetype": "text/x-python",
   "name": "python",
   "nbconvert_exporter": "python",
   "pygments_lexer": "ipython3",
   "version": "3.6.5"
  }
 },
 "nbformat": 4,
 "nbformat_minor": 1
}
