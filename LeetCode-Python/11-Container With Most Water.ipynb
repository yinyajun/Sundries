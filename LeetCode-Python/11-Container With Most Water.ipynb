{
 "cells": [
  {
   "cell_type": "code",
   "execution_count": 1,
   "metadata": {
    "collapsed": true
   },
   "outputs": [
    {
     "data": {
      "text/plain": [
       "'给定 n 个非负整数 a1，a2，...，an，每个数代表坐标中的一个点 (i, ai) 。在坐标内画 n 条垂直线，垂直线 i 的两个端点分别为 (i, ai) 和 (i, 0)。找出其中的两条线，使得它们与 x 轴共同构成的容器可以容纳最多的水。\\n\\n说明：你不能倾斜容器，且 n 的值至少为 2。'"
      ]
     },
     "execution_count": 1,
     "metadata": {},
     "output_type": "execute_result"
    }
   ],
   "source": [
    "\"\"\"给定 n 个非负整数 a1，a2，...，an，每个数代表坐标中的一个点 (i, ai) 。在坐标内画 n 条垂直线，垂直线 i 的两个端点分别为 (i, ai) 和 (i, 0)。找出其中的两条线，使得它们与 x 轴共同构成的容器可以容纳最多的水。\n",
    "\n",
    "说明：你不能倾斜容器，且 n 的值至少为 2。\"\"\""
   ]
  },
  {
   "cell_type": "code",
   "execution_count": 3,
   "metadata": {},
   "outputs": [],
   "source": [
    "\"\"\"\n",
    "【思路】暴力解法，列出所有排列组合\n",
    "【复杂度】\n",
    "时间： O(N^2)\n",
    "\"\"\"\n",
    "\n",
    "\n",
    "class Solution:\n",
    "    def maxArea(self, height) -> int:\n",
    "        max_v = -1\n",
    "        for i in range(len(height) - 1):\n",
    "            for j in range(i + 1, len(height)):\n",
    "                v = min(height[i], height[j]) * (j - i)\n",
    "                max_v = max(v, max_v)\n",
    "        return max_v\n"
   ]
  },
  {
   "cell_type": "code",
   "execution_count": null,
   "metadata": {},
   "outputs": [],
   "source": [
    "# coding=utf-8\n",
    "\"\"\"\n",
    "【思路】对撞指针\n",
    "i: 左边界\n",
    "j: 右边界\n",
    "面积公式= min(h[i], h[j]) * (j-i)， 有公式可知，\n",
    "面积取决于{最短边}和{两边之间的距离}，初始时，i=0， j= N-1.\n",
    "要想探索更大的面积\n",
    "* 长边向内移动？首先{两边之间的距离}变小。移动后，\n",
    "1）找到更长的边=》没用，{最短边}不变，{总面积}减小\n",
    "2）找到更短的边=》{最短边}变小了，{总面积}减小\n",
    "* 长边向内移动，只会找到更小的面积，不可能找到更大的面积\n",
    "\n",
    "* 短边向内移动？首先{两边之间的距离}变小。移动后，\n",
    "1）找到更长的边=》{最短边}变大，{总面积}有可能增大\n",
    "2）找到更短的边=》{最短边}变小，{总面积}变小\n",
    "\n",
    "可见，只有不断将短边向内移动，希冀最短边变长，才有可能找到更大的面积。\n",
    "【复杂度】\n",
    "时间：O(N)\n",
    "\"\"\"\n",
    "\n",
    "\n",
    "class Solution:\n",
    "    def maxArea(self, height):\n",
    "        i = 0\n",
    "        j = len(height) - 1\n",
    "        area = 0\n",
    "        while i < j:\n",
    "            area = max(area, min(height[i], height[j]) * (j - i))\n",
    "            if height[i] < height[j]:\n",
    "                i += 1\n",
    "            else:\n",
    "                j -= 1\n",
    "        return area\n"
   ]
  }
 ],
 "metadata": {
  "kernelspec": {
   "display_name": "Python 2",
   "language": "python",
   "name": "python2"
  },
  "language_info": {
   "codemirror_mode": {
    "name": "ipython",
    "version": 2
   },
   "file_extension": ".py",
   "mimetype": "text/x-python",
   "name": "python",
   "nbconvert_exporter": "python",
   "pygments_lexer": "ipython2",
   "version": "2.7.6"
  }
 },
 "nbformat": 4,
 "nbformat_minor": 0
}
