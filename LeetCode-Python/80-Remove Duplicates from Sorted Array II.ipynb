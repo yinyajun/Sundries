{
 "cells": [
  {
   "cell_type": "code",
   "execution_count": 1,
   "metadata": {
    "collapsed": true
   },
   "outputs": [
    {
     "data": {
      "text/plain": [
       "'给定一个排序数组，你需要在原地删除重复出现的元素，使得每个元素最多出现两次，返回移除后数组的新长度。\\n\\n不要使用额外的数组空间，你必须在原地修改输入数组并在使用 O(1) 额外空间的条件下完成。'"
      ]
     },
     "execution_count": 1,
     "metadata": {},
     "output_type": "execute_result"
    }
   ],
   "source": [
    "\"\"\"给定一个排序数组，你需要在原地删除重复出现的元素，使得每个元素最多出现两次，返回移除后数组的新长度。\n",
    "\n",
    "不要使用额外的数组空间，你必须在原地修改输入数组并在使用 O(1) 额外空间的条件下完成。\"\"\""
   ]
  },
  {
   "cell_type": "code",
   "execution_count": 1,
   "metadata": {},
   "outputs": [],
   "source": [
    "\"\"\"\n",
    "【思路】延续26的思路2，将i遍历的元素和{已经保存的合法元素的index：j}的元素比较\n",
    "i: 遍历数组\n",
    "j: 已经保存的合法元素的index\n",
    "k: 计数\n",
    "多使用一个k计数\n",
    "如果nums[i]!=nums[j]，新元素，赋值给nums[++j]，k重新计数\n",
    "如果nums[i]==nums[j]且k<2,重复元素且重复一次，赋值给nums[++j]，k++\n",
    "如果多余一个重复元素，不赋值， k++\n",
    "\n",
    "由于nums[0]一定是新元素，而且不符合nums[i]!=nums[j],所以对特别初始化了i,k\n",
    "\"\"\"\n",
    "\n",
    "\n",
    "class Solution:\n",
    "    def removeDuplicates(self, nums) -> int:\n",
    "        if len(nums) == 0:\n",
    "            return 0\n",
    "        i = 1\n",
    "        j = 0\n",
    "        k = 1\n",
    "        while i < len(nums):\n",
    "            if nums[i] != nums[j]:\n",
    "                k = 0\n",
    "            if k < 2:\n",
    "                j += 1\n",
    "                nums[j] = nums[i]\n",
    "            k += 1\n",
    "            i += 1\n",
    "        ret = j + 1\n",
    "        return ret\n"
   ]
  },
  {
   "cell_type": "code",
   "execution_count": 34,
   "metadata": {},
   "outputs": [],
   "source": [
    "\"\"\"\n",
    "根据j的定义，使用正常的初始化，赋值前多个判断：j==-1？\n",
    "\"\"\"\n",
    "\n",
    "class Solution:\n",
    "    def removeDuplicates(self, nums) -> int:\n",
    "        if len(nums) == 0:\n",
    "            return 0\n",
    "        i = 0\n",
    "        j = -1\n",
    "        k = 0\n",
    "        while i < len(nums):\n",
    "            if nums[i] != nums[j]:\n",
    "                k = 0\n",
    "            if k < 2 or j == -1:\n",
    "                j += 1\n",
    "                nums[j] = nums[i]\n",
    "            k += 1\n",
    "            i += 1\n",
    "            \n",
    "        ret = j + 1\n",
    "        return ret\n"
   ]
  },
  {
   "cell_type": "code",
   "execution_count": 37,
   "metadata": {},
   "outputs": [],
   "source": [
    "\"\"\"\n",
    "变换一下k更新的位置\n",
    "【注意】\n",
    "循环中一般循环变量更新后，在使用循环变量可能跳出条件（最后一次循环变量的更新就不符合循环条件），所以需要double check\n",
    "\"\"\"\n",
    "\n",
    "\n",
    "class Solution:\n",
    "    def removeDuplicates(self, nums) -> int:\n",
    "        if len(nums) == 0:\n",
    "            return 0\n",
    "        i = 0\n",
    "        j = -1\n",
    "        k = 0\n",
    "        while i < len(nums):\n",
    "            if k < 2 or j == -1:\n",
    "                j += 1\n",
    "                nums[j] = nums[i]\n",
    "            i += 1\n",
    "            k += 1\n",
    "            if i < len(nums) and nums[i] != nums[j]:\n",
    "                k = 0\n",
    "        ret = j + 1\n",
    "        return ret\n"
   ]
  },
  {
   "cell_type": "code",
   "execution_count": 1,
   "metadata": {},
   "outputs": [],
   "source": [
    "\"\"\"\n",
    "【思路】看了评论的思路，感觉之前写的就是一坨屎\n",
    "大体思路其实不变\n",
    "i: 遍历元素\n",
    "j: 将要存放新的元素的index\n",
    "比较条件改变为nums[i]和nums[j-2]比较就行了。\n",
    "而我之间的想法是和nums[j-1]比较再加计数k，还要维护k\n",
    "\"\"\"\n",
    "\n",
    "\n",
    "class Solution:\n",
    "    def removeDuplicates(self, nums) -> int:\n",
    "        j = 0\n",
    "        i = 0\n",
    "        while i < len(nums):\n",
    "            if j < 2 or nums[i] != nums[j - 2]:\n",
    "                nums[j] = nums[i]\n",
    "                j += 1\n",
    "            i += 1\n",
    "        return j\n"
   ]
  },
  {
   "cell_type": "code",
   "execution_count": 3,
   "metadata": {
    "collapsed": true
   },
   "outputs": [
    {
     "name": "stdout",
     "output_type": "stream",
     "text": [
      "[]\n0\n"
     ]
    }
   ],
   "source": [
    "s = Solution()\n",
    "# n = [1, 1, 1, 3, 4, 4, 4, 5, 5, 5, 5, 5]\n",
    "# n = [1, 1, 1, 2, 2, 2, 3, 3, 3, 3]\n",
    "# n = [1, 1, 1, 2, 2, 3]\n",
    "n = []\n",
    "a = s.removeDuplicates(n)\n",
    "\n",
    "print(n)\n",
    "print(a)\n"
   ]
  },
  {
   "cell_type": "code",
   "execution_count": 29,
   "metadata": {},
   "outputs": [],
   "source": []
  },
  {
   "cell_type": "code",
   "execution_count": null,
   "metadata": {},
   "outputs": [],
   "source": []
  }
 ],
 "metadata": {
  "kernelspec": {
   "display_name": "Python 2",
   "language": "python",
   "name": "python2"
  },
  "language_info": {
   "codemirror_mode": {
    "name": "ipython",
    "version": 2
   },
   "file_extension": ".py",
   "mimetype": "text/x-python",
   "name": "python",
   "nbconvert_exporter": "python",
   "pygments_lexer": "ipython2",
   "version": "2.7.6"
  }
 },
 "nbformat": 4,
 "nbformat_minor": 0
}
