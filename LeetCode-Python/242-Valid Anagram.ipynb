{
 "cells": [
  {
   "cell_type": "code",
   "execution_count": 1,
   "metadata": {},
   "outputs": [
    {
     "data": {
      "text/plain": [
       "'给定两个字符串 s 和 t ，编写一个函数来判断 t 是否是 s 的字母异位词。'"
      ]
     },
     "execution_count": 1,
     "metadata": {},
     "output_type": "execute_result"
    }
   ],
   "source": [
    "\"\"\"给定两个字符串 s 和 t ，编写一个函数来判断 t 是否是 s 的字母异位词。\"\"\""
   ]
  },
  {
   "cell_type": "code",
   "execution_count": 18,
   "metadata": {},
   "outputs": [],
   "source": [
    "from collections import Counter, defaultdict\n",
    "\n",
    "class Solution:\n",
    "    def isAnagram(self, s: str, t: str):\n",
    "        # 2m\n",
    "        c1 = Counter(s)\n",
    "        c2 = Counter(t)\n",
    "        return c1==c2\n",
    "    \n",
    "    def isAnagram2(self, s: str, t: str):\n",
    "        # 节省一个hash表空间, 2m+26\n",
    "        c1 = defaultdict(int)\n",
    "        for i in s:\n",
    "            c1[i] += 1\n",
    "        for j in t:\n",
    "            c1[j] -= 1\n",
    "        for i in c1:\n",
    "            if c1[i]!=0:\n",
    "                return False\n",
    "        return True\n",
    "    \n",
    "    def isAnagram3(self, s: str, t: str):\n",
    "        # 2m + 26\n",
    "        if len(s)!=len(t):\n",
    "            return False\n",
    "        c1 = defaultdict(int)\n",
    "        for i in range(len(s)):\n",
    "            c1[s[i]] += 1\n",
    "            c1[t[i]] -= 1\n",
    "        for i in c1:\n",
    "            if c1[i]!=0:\n",
    "                return False\n",
    "        return True\n",
    "        "
   ]
  },
  {
   "cell_type": "code",
   "execution_count": 19,
   "metadata": {},
   "outputs": [
    {
     "data": {
      "text/plain": [
       "True"
      ]
     },
     "execution_count": 19,
     "metadata": {},
     "output_type": "execute_result"
    }
   ],
   "source": [
    "s = Solution()\n",
    "s.isAnagram3(\"anagram\", \"nagaram\")"
   ]
  },
  {
   "cell_type": "code",
   "execution_count": null,
   "metadata": {},
   "outputs": [],
   "source": []
  }
 ],
 "metadata": {
  "kernelspec": {
   "display_name": "Python 3",
   "language": "python",
   "name": "python3"
  },
  "language_info": {
   "codemirror_mode": {
    "name": "ipython",
    "version": 3
   },
   "file_extension": ".py",
   "mimetype": "text/x-python",
   "name": "python",
   "nbconvert_exporter": "python",
   "pygments_lexer": "ipython3",
   "version": "3.6.5"
  }
 },
 "nbformat": 4,
 "nbformat_minor": 2
}
