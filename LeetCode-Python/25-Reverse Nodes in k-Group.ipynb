{
 "cells": [
  {
   "cell_type": "markdown",
   "metadata": {
    "collapsed": true
   },
   "source": [
    "给你一个链表，每 k 个节点一组进行翻转，请你返回翻转后的链表。\n",
    "\n",
    "k 是一个正整数，它的值小于或等于链表的长度。\n",
    "\n",
    "如果节点总数不是 k 的整数倍，那么请将最后剩余的节点保持原有顺序。\n",
    "\n",
    "示例 :\n",
    "\n",
    "给定这个链表：1->2->3->4->5\n",
    "\n",
    "当 k = 2 时，应当返回: 2->1->4->3->5\n",
    "\n",
    "当 k = 3 时，应当返回: 3->2->1->4->5\n",
    "\n",
    "说明 :\n",
    "\n",
    "你的算法只能使用常数的额外空间。\n",
    "\n",
    "你不能只是单纯的改变节点内部的值，而是需要实际的进行节点交换。\n",
    "\n"
   ]
  },
  {
   "cell_type": "code",
   "execution_count": 3,
   "metadata": {},
   "outputs": [],
   "source": [
    "\"\"\"基本是仿照24的做法，多加了非递归的反转链表而已\"\"\"\n",
    "\n",
    "class ListNode:\n",
    "    def __init__(self, x):\n",
    "        self.val = x\n",
    "        self.next = None\n",
    "\n",
    "class Solution:\n",
    "    def reverseKGroup(self, head: ListNode, k: int) -> ListNode:\n",
    "        assert k > 0\n",
    "        cnt = k\n",
    "        end = head\n",
    "        while cnt:\n",
    "            if not end:\n",
    "                return head\n",
    "            end = end.next\n",
    "            cnt -= 1\n",
    "\n",
    "        # first reverse k list\n",
    "        pre = head\n",
    "        cur = head.next\n",
    "        cnt = k - 1\n",
    "        while cnt:\n",
    "            nxt = cur.next\n",
    "            cur.next = pre\n",
    "            pre = cur\n",
    "            cur = nxt\n",
    "            cnt -= 1\n",
    "        \n",
    "        # then \n",
    "        head.next = self.reverseKGroup(cur, k)\n",
    "        return pre"
   ]
  },
  {
   "cell_type": "code",
   "execution_count": 4,
   "metadata": {},
   "outputs": [],
   "source": [
    "class Solution:\n",
    "    def reverseKGroup(self, head: ListNode, k: int) -> ListNode:\n",
    "        assert k > 0\n",
    "        dummy_head = ListNode(None)\n",
    "        dummy_head.next = head\n",
    "\n",
    "        pre = dummy_head\n",
    "        while self.check(pre.next, k):\n",
    "            start = self.reverse_list(pre.next, k - 1)\n",
    "            end = pre.next\n",
    "            pre.next = start\n",
    "\n",
    "            pre = end\n",
    "        return dummy_head.next\n",
    "\n",
    "    def check(self, head, cnt):\n",
    "        # 判断head开始的k个node非空\n",
    "        while cnt:\n",
    "            if not head:\n",
    "                return False\n",
    "            head = head.next\n",
    "            cnt -= 1\n",
    "        return True\n",
    "\n",
    "    def reverse_list(self, head, cnt):\n",
    "        # top k node is not None\n",
    "        pre = head\n",
    "        cur = head.next\n",
    "        while cnt:\n",
    "            nxt = cur.next\n",
    "            cur.next = pre\n",
    "            pre = cur\n",
    "            cur = nxt\n",
    "            cnt -= 1\n",
    "\n",
    "        head.next = cur\n",
    "        return pre\n",
    "\n",
    "        \n",
    "        "
   ]
  },
  {
   "cell_type": "code",
   "execution_count": null,
   "metadata": {},
   "outputs": [],
   "source": []
  }
 ],
 "metadata": {
  "kernelspec": {
   "display_name": "Python 3",
   "language": "python",
   "name": "python3"
  },
  "language_info": {
   "codemirror_mode": {
    "name": "ipython",
    "version": 3
   },
   "file_extension": ".py",
   "mimetype": "text/x-python",
   "name": "python",
   "nbconvert_exporter": "python",
   "pygments_lexer": "ipython3",
   "version": "3.6.5"
  }
 },
 "nbformat": 4,
 "nbformat_minor": 1
}
