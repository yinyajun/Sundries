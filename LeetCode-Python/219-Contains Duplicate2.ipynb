{
 "cells": [
  {
   "cell_type": "markdown",
   "metadata": {
    "collapsed": true
   },
   "source": [
    "给定一个整数数组和一个整数 k，判断数组中是否存在两个不同的索引 i 和 j，使得 nums [i] = nums [j]，并且 i 和 j 的差的绝对值最大为 k。\n"
   ]
  },
  {
   "cell_type": "code",
   "execution_count": 51,
   "metadata": {},
   "outputs": [],
   "source": [
    "\"\"\"\n",
    "法1：最朴素的算法就是维护一个大小为k的窗口，在这个窗口中搜索是否有相同元素\n",
    "法2：维护一个k窗口的treeSet\n",
    "法3：维护一个k窗口的hashSet\n",
    "法4（本方法）：维护一个hashMap，记录一个数最后出现的idx\n",
    "1. 在hashMap中搜索当前元素,且判断idx差距是否小于k，满足返回true\n",
    "2. 在hashMap中更新当前元素的idx。\n",
    "\"\"\"\n",
    "\n",
    "\n",
    "from typing import List\n",
    "class Solution:\n",
    "    def containsNearbyDuplicate(self, nums: List[int], k: int) -> bool:\n",
    "        num_map = {}\n",
    "        for i, n in enumerate(nums):   \n",
    "            if n not in num_map:\n",
    "                num_map[n] = [i]\n",
    "            else:\n",
    "                same_idxs = num_map[n]\n",
    "                min_ = i - same_idxs[-1]\n",
    "                same_idxs.append(i) # 别忘了维护same_idxs的更新\n",
    "                if min_ > k:\n",
    "                    continue\n",
    "                for j in same_idxs[:-1]:\n",
    "                    gap = i - j\n",
    "                    if gap <= k:\n",
    "                        return True\n",
    "        return False\n",
    "                    \n",
    "                    "
   ]
  },
  {
   "cell_type": "code",
   "execution_count": 63,
   "metadata": {},
   "outputs": [],
   "source": [
    "\"\"\"\n",
    "其实map中只要记录同样出现数字最后一次出现的idx即可，每次遍历到同样的数字，新的idx和之前的idx的间距是否小于等于k\n",
    "\"\"\"\n",
    "\n",
    "from typing import List\n",
    "class Solution:\n",
    "    def containsNearbyDuplicate(self, nums: List[int], k: int) -> bool:\n",
    "        num_map = {}\n",
    "        for i, n in enumerate(nums):   \n",
    "            if n not in num_map:\n",
    "                num_map[n] = i\n",
    "            else:\n",
    "                r = i - num_map[n]\n",
    "                num_map[n] = i # 记得维护num_map\n",
    "                if r <= k:\n",
    "                    return True\n",
    "        return False"
   ]
  },
  {
   "cell_type": "code",
   "execution_count": 66,
   "metadata": {},
   "outputs": [
    {
     "data": {
      "text/plain": [
       "True"
      ]
     },
     "execution_count": 66,
     "metadata": {},
     "output_type": "execute_result"
    }
   ],
   "source": [
    "s = Solution()\n",
    "s.containsNearbyDuplicate([1,0,1,1],1)"
   ]
  },
  {
   "cell_type": "code",
   "execution_count": 74,
   "metadata": {},
   "outputs": [],
   "source": [
    "from typing import List\n",
    "class Solution:\n",
    "    def containsNearbyDuplicate(self, nums: List[int], k: int) -> bool:\n",
    "        num_map = {}\n",
    "        for i, n in enumerate(nums):   \n",
    "            if n in num_map and i - num_map[n] <= k:\n",
    "                return True\n",
    "            num_map[n] = i\n",
    "        return False"
   ]
  },
  {
   "cell_type": "code",
   "execution_count": 75,
   "metadata": {},
   "outputs": [
    {
     "data": {
      "text/plain": [
       "True"
      ]
     },
     "execution_count": 75,
     "metadata": {},
     "output_type": "execute_result"
    }
   ],
   "source": [
    "s = Solution()\n",
    "s.containsNearbyDuplicate([99,99],2)"
   ]
  },
  {
   "cell_type": "code",
   "execution_count": 78,
   "metadata": {},
   "outputs": [],
   "source": [
    "\"\"\"\n",
    "维护一个k窗口的hashSet\n",
    "1. 如果Set中搜索到当前元素，返回True\n",
    "2. 在Set中插入当前元素\n",
    "3. 如果hashSet的size超过k，删除最旧的元素。\n",
    "\"\"\"\n",
    "from typing import List\n",
    "class Solution:\n",
    "    def containsNearbyDuplicate(self, nums: List[int], k: int) -> bool:\n",
    "        num_set = set()\n",
    "        for i, n in enumerate(nums):\n",
    "            if n in num_set:\n",
    "                return True\n",
    "            num_set.add(n)\n",
    "            if len(num_set) > k:\n",
    "                num_set.remove(nums[i-k])\n",
    "        return False\n",
    "            "
   ]
  },
  {
   "cell_type": "code",
   "execution_count": 79,
   "metadata": {},
   "outputs": [
    {
     "data": {
      "text/plain": [
       "True"
      ]
     },
     "execution_count": 79,
     "metadata": {},
     "output_type": "execute_result"
    }
   ],
   "source": [
    "s = Solution()\n",
    "s.containsNearbyDuplicate([99,99],2)"
   ]
  },
  {
   "cell_type": "code",
   "execution_count": null,
   "metadata": {},
   "outputs": [],
   "source": []
  }
 ],
 "metadata": {
  "kernelspec": {
   "display_name": "Python 3",
   "language": "python",
   "name": "python3"
  },
  "language_info": {
   "codemirror_mode": {
    "name": "ipython",
    "version": 3
   },
   "file_extension": ".py",
   "mimetype": "text/x-python",
   "name": "python",
   "nbconvert_exporter": "python",
   "pygments_lexer": "ipython3",
   "version": "3.6.5"
  }
 },
 "nbformat": 4,
 "nbformat_minor": 1
}
