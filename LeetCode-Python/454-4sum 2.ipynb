{
 "cells": [
  {
   "cell_type": "markdown",
   "metadata": {
    "collapsed": true
   },
   "source": [
    "给定四个包含整数的数组列表 A , B , C , D ,计算有多少个元组 (i, j, k, l) ，使得 A[i] + B[j] + C[k] + D[l] = 0。\n",
    "\n",
    "为了使问题简单化，所有的 A, B, C, D 具有相同的长度 N，且 0 ≤ N ≤ 500 。所有整数的范围在 -228 到 228 - 1 之间，最终结果不会超过 231 - 1 。\n",
    "\n"
   ]
  },
  {
   "cell_type": "code",
   "execution_count": 12,
   "metadata": {},
   "outputs": [],
   "source": [
    "\"\"\"\n",
    "暴力解法的复杂度是O（N^4）\n",
    "将C D所有组合存入字典，花费O(N^2),然后遍历A B组合，也是花费O(N^2)\n",
    "最后总复杂度降低为O(N^2)\n",
    "\"\"\"\n",
    "\n",
    "from typing import List\n",
    "class Solution:\n",
    "    def fourSumCount(self, A: List[int], B: List[int], C: List[int], D: List[int]) -> int:\n",
    "        length = len(A)\n",
    "        cnt = 0\n",
    "        rec = {}\n",
    "        for i in range(length):\n",
    "            for j in range(length):\n",
    "                tmp_sum = C[i] + D[j]\n",
    "                if tmp_sum not in rec:\n",
    "                    rec[tmp_sum] = 0\n",
    "                rec[tmp_sum] +=1\n",
    "            \n",
    "        for p in range(length):\n",
    "            for q in range(length):\n",
    "                inverse = -(A[p] + B[q])\n",
    "                if inverse in rec:\n",
    "                    cnt += rec[inverse]\n",
    "        return cnt   \n",
    "        \n",
    "        "
   ]
  },
  {
   "cell_type": "code",
   "execution_count": null,
   "metadata": {},
   "outputs": [],
   "source": [
    "import collections\n",
    "class Solution:\n",
    "    def fourSumCount(self, A: List[int], B: List[int], C: List[int], D: List[int]) -> int:\n",
    "        dic = collections.Counter(a + b for a in A for b in B)\n",
    "        return sum(dic.get(- c - d, 0) for c in C for d in D)\n"
   ]
  }
 ],
 "metadata": {
  "kernelspec": {
   "display_name": "Python 3",
   "language": "python",
   "name": "python3"
  },
  "language_info": {
   "codemirror_mode": {
    "name": "ipython",
    "version": 3
   },
   "file_extension": ".py",
   "mimetype": "text/x-python",
   "name": "python",
   "nbconvert_exporter": "python",
   "pygments_lexer": "ipython3",
   "version": "3.6.5"
  }
 },
 "nbformat": 4,
 "nbformat_minor": 1
}
