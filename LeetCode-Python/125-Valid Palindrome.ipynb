{
 "cells": [
  {
   "cell_type": "code",
   "execution_count": 1,
   "metadata": {
    "collapsed": true
   },
   "outputs": [
    {
     "data": {
      "text/plain": [
       "'给定一个字符串，验证它是否是回文串，只考虑字母和数字字符，可以忽略字母的大小写。\\n\\n说明：本题中，我们将空字符串定义为有效的回文串。'"
      ]
     },
     "execution_count": 1,
     "metadata": {},
     "output_type": "execute_result"
    }
   ],
   "source": [
    "\"\"\"给定一个字符串，验证它是否是回文串，只考虑字母和数字字符，可以忽略字母的大小写。\n",
    "\n",
    "说明：本题中，我们将空字符串定义为有效的回文串。\"\"\""
   ]
  },
  {
   "cell_type": "code",
   "execution_count": 4,
   "metadata": {},
   "outputs": [],
   "source": [
    "\"\"\"\n",
    "【思路】对撞指针\n",
    "【复杂度】O(N/2)\n",
    "\"\"\"\n",
    "\n",
    "\n",
    "class Solution:\n",
    "    def isPalindrome(self, s: str) -> bool:\n",
    "        i = 0\n",
    "        j = len(s) - 1\n",
    "        while i <= j:\n",
    "            a = self.treat(s[i])\n",
    "            b = self.treat(s[j])\n",
    "            if a is None:\n",
    "                i += 1\n",
    "                continue\n",
    "            if b is None:\n",
    "                j -= 1\n",
    "                continue\n",
    "\n",
    "            if a == b:\n",
    "                i += 1\n",
    "                j -= 1\n",
    "            else:\n",
    "                return False\n",
    "        return True\n",
    "\n",
    "    def treat(self, s):\n",
    "        if 'a' <= s.lower() <= 'z':\n",
    "            return s.lower()\n",
    "        elif '0' <= s <= '9':\n",
    "            return int(s)\n",
    "        return None\n"
   ]
  },
  {
   "cell_type": "code",
   "execution_count": 17,
   "metadata": {},
   "outputs": [],
   "source": [
    "\"\"\"\n",
    "【pythonic的方式，使用切片直接反转字符串】\n",
    "\"\"\"\n",
    "\n",
    "\n",
    "class Solution:\n",
    "    def isPalindrome(self, s):\n",
    "        \"\"\"\n",
    "        :type s: str\n",
    "        :rtype: bool\n",
    "        \"\"\"\n",
    "        import math\n",
    "        s = ''.join(filter(str.isalnum, s)).lower()\n",
    "        mid = math.ceil(len(s) / 2)\n",
    "        return s[:mid] == s[-mid:][::-1]\n"
   ]
  },
  {
   "cell_type": "code",
   "execution_count": 5,
   "metadata": {},
   "outputs": [
    {
     "name": "stdout",
     "output_type": "stream",
     "text": [
      "False\n"
     ]
    }
   ],
   "source": [
    "s = Solution()\n",
    "ss = 'race a car'\n",
    "print(s.isPalindrome(ss))"
   ]
  },
  {
   "cell_type": "code",
   "execution_count": null,
   "metadata": {},
   "outputs": [],
   "source": [
    ""
   ]
  }
 ],
 "metadata": {
  "kernelspec": {
   "display_name": "Python 2",
   "language": "python",
   "name": "python2"
  },
  "language_info": {
   "codemirror_mode": {
    "name": "ipython",
    "version": 2
   },
   "file_extension": ".py",
   "mimetype": "text/x-python",
   "name": "python",
   "nbconvert_exporter": "python",
   "pygments_lexer": "ipython2",
   "version": "2.7.6"
  }
 },
 "nbformat": 4,
 "nbformat_minor": 0
}
