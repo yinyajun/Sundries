{
 "cells": [
  {
   "cell_type": "code",
   "execution_count": 1,
   "metadata": {},
   "outputs": [
    {
     "data": {
      "text/plain": [
       "'给定一个字符串，请将字符串里的字符按照出现的频率降序排列。'"
      ]
     },
     "execution_count": 1,
     "metadata": {},
     "output_type": "execute_result"
    }
   ],
   "source": [
    "\"\"\"给定一个字符串，请将字符串里的字符按照出现的频率降序排列。\"\"\""
   ]
  },
  {
   "cell_type": "code",
   "execution_count": 5,
   "metadata": {},
   "outputs": [],
   "source": [
    "from collections import defaultdict, Counter\n",
    "class Solution:\n",
    "    def frequencySort(self, s: str):\n",
    "        d = defaultdict(int)\n",
    "        for i in s:\n",
    "            d[i] += 1\n",
    "        \n",
    "        sorted_d = sorted(d.items(), key=lambda p:p[1], reverse=True)\n",
    "        ret = []\n",
    "        for k, v in sorted_d:\n",
    "            ret.extend([k]*v)\n",
    "        return \"\".join(ret)\n",
    "    \n",
    "    def f(self, s):\n",
    "        c = Counter(s)\n",
    "        ret = []\n",
    "        for k, v in c.most_common(len(s)):\n",
    "            ret.extend([k]*v)\n",
    "        return \"\".join(ret)\n"
   ]
  },
  {
   "cell_type": "code",
   "execution_count": 6,
   "metadata": {},
   "outputs": [
    {
     "data": {
      "text/plain": [
       "'fffsssddjg'"
      ]
     },
     "execution_count": 6,
     "metadata": {},
     "output_type": "execute_result"
    }
   ],
   "source": [
    "s = Solution()\n",
    "s.frequencySort(\"fdjsgdsffs\")\n",
    "s.f(\"fdjsgdsffs\")"
   ]
  },
  {
   "cell_type": "code",
   "execution_count": 8,
   "metadata": {},
   "outputs": [
    {
     "data": {
      "text/plain": [
       "'a'"
      ]
     },
     "execution_count": 8,
     "metadata": {},
     "output_type": "execute_result"
    }
   ],
   "source": [
    "\"\"+\"a\""
   ]
  },
  {
   "cell_type": "code",
   "execution_count": null,
   "metadata": {},
   "outputs": [],
   "source": []
  }
 ],
 "metadata": {
  "kernelspec": {
   "display_name": "Python 3",
   "language": "python",
   "name": "python3"
  },
  "language_info": {
   "codemirror_mode": {
    "name": "ipython",
    "version": 3
   },
   "file_extension": ".py",
   "mimetype": "text/x-python",
   "name": "python",
   "nbconvert_exporter": "python",
   "pygments_lexer": "ipython3",
   "version": "3.6.5"
  }
 },
 "nbformat": 4,
 "nbformat_minor": 1
}
