{
 "cells": [
  {
   "cell_type": "markdown",
   "metadata": {
    "collapsed": true
   },
   "source": [
    "给定两个单词（beginWord 和 endWord）和一个字典 wordList，找出所有从 beginWord 到 endWord 的最短转换序列。转换需遵循如下规则：\n",
    "\n",
    "1. 每次转换只能改变一个字母。\n",
    "2. 转换过程中的中间单词必须是字典中的单词。\n",
    "\n",
    "**说明**:\n",
    "\n",
    "* 如果不存在这样的转换序列，返回一个空列表。\n",
    "* 所有单词具有相同的长度。\n",
    "* 所有单词只由小写字母组成。\n",
    "* 字典中不存在重复的单词。\n",
    "* 你可以假设 beginWord 和 endWord 是非空的，且二者不相同。\n",
    "\n",
    "示例 1:\n",
    "\n",
    "输入:\n",
    "beginWord = \"hit\",\n",
    "endWord = \"cog\",\n",
    "wordList = [\"hot\",\"dot\",\"dog\",\"lot\",\"log\",\"cog\"]\n",
    "\n",
    "输出:\n",
    "[\n",
    "  [\"hit\",\"hot\",\"dot\",\"dog\",\"cog\"],\n",
    "  [\"hit\",\"hot\",\"lot\",\"log\",\"cog\"]\n",
    "]\n",
    "\n",
    "\n",
    "示例 2:\n",
    "\n",
    "输入:\n",
    "beginWord = \"hit\"\n",
    "endWord = \"cog\"\n",
    "wordList = [\"hot\",\"dot\",\"dog\",\"lot\",\"log\"]\n",
    "\n",
    "输出: []\n",
    "\n",
    "解释: endWord \"cog\" 不在字典中，所以不存在符合要求的转换序列。\n",
    "在真实的面试中遇到过\n"
   ]
  },
  {
   "cell_type": "code",
   "execution_count": null,
   "metadata": {},
   "outputs": [],
   "source": [
    "class Solution:\n",
    "    def findLadders(self, beginWord: str, endWord: str, wordList: List[str]) -> List[List[str]]:\n",
    "        \n",
    "        \n",
    "        \n",
    "        \n",
    "        "
   ]
  }
 ],
 "metadata": {
  "kernelspec": {
   "display_name": "Python 3",
   "language": "python",
   "name": "python3"
  },
  "language_info": {
   "codemirror_mode": {
    "name": "ipython",
    "version": 3
   },
   "file_extension": ".py",
   "mimetype": "text/x-python",
   "name": "python",
   "nbconvert_exporter": "python",
   "pygments_lexer": "ipython3",
   "version": "3.6.5"
  }
 },
 "nbformat": 4,
 "nbformat_minor": 1
}
