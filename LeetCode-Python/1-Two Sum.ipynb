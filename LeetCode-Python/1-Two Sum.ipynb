{
 "cells": [
  {
   "cell_type": "markdown",
   "metadata": {
    "collapsed": true
   },
   "source": [
    "给定一个整数数组 nums和一个目标值 target，请你在该数组中找出和为目标值的那 两个 整数，并返回他们的数组下标。\n",
    "\n",
    "你可以假设每种输入只会对应一个答案。但是，你不能重复利用这个数组中同样的元素。\n",
    "\n",
    "> 查看350 "
   ]
  },
  {
   "cell_type": "code",
   "execution_count": 5,
   "metadata": {},
   "outputs": [],
   "source": [
    "\"\"\"\n",
    "通过删除查过的元素来去重\n",
    "通过给dict元素赋值来代替删除\n",
    "\"\"\"\n",
    "\n",
    "from collections import defaultdict\n",
    "\n",
    "\n",
    "class Solution:\n",
    "    def twoSum(self, nums, target: int):\n",
    "        d = defaultdict(lambda: -1)\n",
    "        for i, j in enumerate(nums):\n",
    "            d[j] = i\n",
    "        for i, j in enumerate(nums):\n",
    "            if d[target - j] != -1 and d[target - j] != i:\n",
    "                return [i, d[target - j]]\n",
    "\n",
    "    def twoSumAll(self, nums, target):\n",
    "        # 当输入有重复元素\n",
    "        # 删除dict会引发key Error\n",
    "        d = defaultdict(lambda: -1)\n",
    "        for i, j in enumerate(nums):\n",
    "            d[j] = i\n",
    "        ret = []\n",
    "        for i, j in enumerate(nums):\n",
    "            index1, value1, index2, value2 = i, j, d[target - j], target - j\n",
    "            if index2 != -1 and index2 != i:\n",
    "                ret.append([index1, index2])\n",
    "                d[j] = -1\n",
    "                d[target - j] = -1\n",
    "        return ret[0]\n",
    "\n",
    "    def twoSum(self, nums, target):\n",
    "        idx_dict = {}\n",
    "        idx_list = []\n",
    "        for idx, num in enumerate(nums):\n",
    "            if target - num in idx_dict:\n",
    "                idx_list.append([idx_dict[target - num], idx])\n",
    "            idx_dict[num] = idx\n",
    "        return idx_list[0] if len(idx_list) > 0 else []\n"
   ]
  },
  {
   "cell_type": "code",
   "execution_count": 6,
   "metadata": {},
   "outputs": [
    {
     "data": {
      "text/plain": [
       "[[0, 1]]"
      ]
     },
     "execution_count": 6,
     "metadata": {},
     "output_type": "execute_result"
    }
   ],
   "source": [
    "s = Solution()\n",
    "s.twoSum([1, 5, 2], 6)\n"
   ]
  },
  {
   "cell_type": "code",
   "execution_count": null,
   "metadata": {},
   "outputs": [],
   "source": []
  }
 ],
 "metadata": {
  "kernelspec": {
   "display_name": "Python 3",
   "language": "python",
   "name": "python3"
  },
  "language_info": {
   "codemirror_mode": {
    "name": "ipython",
    "version": 3
   },
   "file_extension": ".py",
   "mimetype": "text/x-python",
   "name": "python",
   "nbconvert_exporter": "python",
   "pygments_lexer": "ipython3",
   "version": "3.6.5"
  }
 },
 "nbformat": 4,
 "nbformat_minor": 1
}
