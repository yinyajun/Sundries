{
 "cells": [
  {
   "cell_type": "markdown",
   "metadata": {},
   "source": [
    "\"\"\"给定两个数组，编写一个函数来计算它们的交集。\"\"\""
   ]
  },
  {
   "cell_type": "code",
   "execution_count": 5,
   "metadata": {},
   "outputs": [],
   "source": [
    "\"\"\"\n",
    "[1思路]\n",
    "1. 对nums1构建hash表，遍历nums2元素是否在hash表中（频数大于0），每次出现都频数减1。记录nums2中所有出现在hash表中的元素。\n",
    "【时间复杂度】\n",
    "1. 遍历nums1构建hash表, 复杂度m\n",
    "2. 遍历nums2，查看元素是否在hash表总，复杂度n\n",
    "如果没有hash表，那么nums2中每个元素需要和整个nums1比较，时间复杂度为O(mn)【暴力法】\n",
    "\n",
    "【2思路】\n",
    "已知两个数组有序，用双指针i，j分别指向两数组的开头。比较指针指向的元素，\n",
    "元素相同，记录到ret，两个指针都加1\n",
    "否则，小的元素对应的指针加1.\n",
    "【复杂度分析】\n",
    "最坏时间复杂度 m+n\n",
    "最优时间复杂度 min（m,n）\n",
    "\n",
    "思路1通过hash表空间换时间，将暴力法的O(mn)降低为O(m+n),那么思路2为什么能降低复杂度？\n",
    "原因在于数组有序。\n",
    "查看nums1某元素是否在nums2中，不需要遍历整个nums2。\n",
    "只需要从上次遍历过的地方继续遍历就可以了, 所以nums2只会遍历一次。\n",
    "这次nums1的元素是大于上次的，上次遍历到nums2的位置之前的元素肯定小于上次nums1元素\n",
    "必然也小于这次nums1元素，所以直接从上次遍历到的nums2位置后面开始。\n",
    "\n",
    "那么查看所有nums1中元素是否在nums2中的复杂度变为O(m+n)\n",
    "\n",
    "\"\"\"\n",
    "from collections import Counter\n",
    "class Solution:\n",
    "    def intersect(self, nums1, nums2):\n",
    "        # 时间复杂度 O(m+n)\n",
    "        c1 = Counter(nums1)\n",
    "        ret = []\n",
    "        for i in nums2:\n",
    "            if c1[i] > 0:\n",
    "                c1[i] -= 1\n",
    "                ret.append(i)\n",
    "        return ret\n",
    "    \n",
    "    def intersect_sorted(self, nums1, nums2):\n",
    "        # 假如nums1和nums2已经有序\n",
    "        i, j = 0, 0\n",
    "        ret = []\n",
    "        while i < len(nums1) and j < len(nums2):\n",
    "            if nums1[i] == nums2[j]:\n",
    "                ret.append(nums1[i])\n",
    "                i+=1\n",
    "                j+=1\n",
    "            elif nums1[i] > nums2[j]:\n",
    "                j+=1\n",
    "            else:\n",
    "                i+=1\n",
    "        return ret"
   ]
  },
  {
   "cell_type": "code",
   "execution_count": 6,
   "metadata": {},
   "outputs": [
    {
     "data": {
      "text/plain": [
       "[2, 2, 3]"
      ]
     },
     "execution_count": 6,
     "metadata": {},
     "output_type": "execute_result"
    }
   ],
   "source": [
    "s = Solution()\n",
    "s.intersect([1, 1, 1, 2, 2, 3], [2, 2, 2, 3])\n"
   ]
  },
  {
   "cell_type": "code",
   "execution_count": 7,
   "metadata": {},
   "outputs": [
    {
     "data": {
      "text/plain": [
       "[2, 2, 3]"
      ]
     },
     "execution_count": 7,
     "metadata": {},
     "output_type": "execute_result"
    }
   ],
   "source": [
    "s.intersect_sorted([1, 1, 1, 2, 2, 3], [2, 2, 2, 3])"
   ]
  },
  {
   "cell_type": "code",
   "execution_count": null,
   "metadata": {},
   "outputs": [],
   "source": []
  }
 ],
 "metadata": {
  "kernelspec": {
   "display_name": "Python 3",
   "language": "python",
   "name": "python3"
  },
  "language_info": {
   "codemirror_mode": {
    "name": "ipython",
    "version": 3
   },
   "file_extension": ".py",
   "mimetype": "text/x-python",
   "name": "python",
   "nbconvert_exporter": "python",
   "pygments_lexer": "ipython3",
   "version": "3.6.5"
  }
 },
 "nbformat": 4,
 "nbformat_minor": 2
}
