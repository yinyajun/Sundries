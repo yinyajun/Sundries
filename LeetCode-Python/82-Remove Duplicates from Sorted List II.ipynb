{
 "cells": [
  {
   "cell_type": "markdown",
   "metadata": {
    "collapsed": true
   },
   "source": [
    "给定一个排序链表，删除所有含有重复数字的节点，只保留原始链表中 没有重复出现 的数字。\n",
    "\n",
    "示例 1:\n",
    "\n",
    "输入: 1->2->3->3->4->4->5\n",
    "\n",
    "输出: 1->2->5\n",
    "\n",
    "示例 2:\n",
    "\n",
    "输入: 1->1->1->2->3\n",
    "\n",
    "输出: 2->3\n"
   ]
  },
  {
   "cell_type": "code",
   "execution_count": 1,
   "metadata": {},
   "outputs": [],
   "source": [
    "class ListNode:\n",
    "    def __init__(self, x):\n",
    "        self.val = x\n",
    "        self.next = None\n",
    "\n",
    "\n",
    "\"\"\"\n",
    "这只能解决83的问题\n",
    "\"\"\"\n",
    "\n",
    "\n",
    "class Solution:\n",
    "    def deleteDuplicates(self, head: ListNode) -> ListNode:\n",
    "        dummy_head = ListNode(None)\n",
    "        dummy_head.next = head\n",
    "\n",
    "        pre = dummy_head\n",
    "\n",
    "        while pre and pre.next:\n",
    "            if pre.next.val == pre.val:\n",
    "                pre.next = pre.next.next\n",
    "                continue\n",
    "            # not equal\n",
    "            pre = pre.next\n",
    "\n",
    "        return dummy_head.next\n"
   ]
  },
  {
   "cell_type": "code",
   "execution_count": 2,
   "metadata": {},
   "outputs": [],
   "source": [
    "class Solution:\n",
    "    def deleteDuplicates(self, head: ListNode) -> ListNode:\n",
    "        dummy_head = ListNode(None)\n",
    "        dummy_head.next = head\n",
    "\n",
    "        pre = dummy_head\n",
    "        cur = head\n",
    "\n",
    "        while cur:\n",
    "            if cur.next and cur.val == cur.next.val:\n",
    "                while cur.next and cur.val == cur.next.val:\n",
    "                    cur = cur.next\n",
    "                pre.next = cur.next\n",
    "                cur = cur.next\n",
    "                continue\n",
    "\n",
    "            pre = pre.next\n",
    "            cur = cur.next\n",
    "        return dummy_head.next\n"
   ]
  },
  {
   "cell_type": "code",
   "execution_count": null,
   "metadata": {},
   "outputs": [],
   "source": [
    "\"\"\"\n",
    "递归解法\n",
    "详看我的题解\n",
    "注意child_head可能为空\n",
    "\"\"\"\n",
    "\n",
    "class Solution:\n",
    "    def deleteDuplicates(self, head: ListNode) -> ListNode:\n",
    "        if not head:\n",
    "            return head\n",
    "\n",
    "        def recursive(head):\n",
    "            if not head.next:\n",
    "                return head\n",
    "\n",
    "            child_head = recursive(head.next)\n",
    "\n",
    "            if head.val == head.next.val:\n",
    "                if child_head and head.val == child_head.val:\n",
    "                    return child_head.next\n",
    "                return child_head\n",
    "            head.next = child_head\n",
    "            return head\n",
    "\n",
    "        a = recursive(head)\n",
    "        return a\n"
   ]
  }
 ],
 "metadata": {
  "kernelspec": {
   "display_name": "Python 3",
   "language": "python",
   "name": "python3"
  },
  "language_info": {
   "codemirror_mode": {
    "name": "ipython",
    "version": 3
   },
   "file_extension": ".py",
   "mimetype": "text/x-python",
   "name": "python",
   "nbconvert_exporter": "python",
   "pygments_lexer": "ipython3",
   "version": "3.6.5"
  }
 },
 "nbformat": 4,
 "nbformat_minor": 1
}
