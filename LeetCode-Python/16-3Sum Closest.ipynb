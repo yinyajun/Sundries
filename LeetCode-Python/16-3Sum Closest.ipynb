{
 "cells": [
  {
   "cell_type": "markdown",
   "metadata": {
    "collapsed": true
   },
   "source": [
    "给定一个包括 n 个整数的数组 nums 和 一个目标值 target。找出 nums 中的三个整数，使得它们的和与 target 最接近。返回这三个数的和。假定每组输入只存在唯一答案。\n",
    "\n",
    "例如，给定数组 nums = [-1，2，1，-4], 和 target = 1.\n",
    "\n",
    "与 target 最接近的三个数的和为 2. (-1 + 2 + 1 = 2)."
   ]
  },
  {
   "cell_type": "code",
   "execution_count": 69,
   "metadata": {},
   "outputs": [],
   "source": [
    "class Solution:\n",
    "    def threeSumClosest(self, nums: List[int], target: int) -> int:\n",
    "        nums.sort()\n",
    "        min_gap = 1000000\n",
    "        length = len(nums)\n",
    "        res = None\n",
    "\n",
    "        for i in range(length - 2):\n",
    "            left, right = i + 1, length - 1\n",
    "            ljz = nums[i] + nums[left] + nums[left + 1]\n",
    "            rjz = nums[i] + nums[right] + nums[right - 1]\n",
    "            # 固定元素和nums中最大两个元素之和小于target，本次循环只需考虑这个\n",
    "            if target >= rjz:\n",
    "                res, min_gap = self.f(rjz, target, min_gap, res)\n",
    "                continue\n",
    "            # 固定元素和nums中最小两个元素之和大于target\n",
    "            if target <= ljz:\n",
    "                res, min_gap = self.f(ljz, target, min_gap, res)\n",
    "                continue\n",
    "        \n",
    "            # 双指针\n",
    "            while left < right:\n",
    "                s = nums[i] + nums[left] + nums[right]\n",
    "                gap = s - target\n",
    "                if gap < 0:\n",
    "                    res, min_gap = self.f(s, target, min_gap, res)\n",
    "                    left += 1\n",
    "                elif gap > 0:\n",
    "                    res, min_gap = self.f(s, target, min_gap, res)\n",
    "                    right -= 1\n",
    "                else:\n",
    "                    return target\n",
    "        return res\n",
    "\n",
    "    def f(self, s, target, min_gap, res):\n",
    "        dist = abs(s - target)\n",
    "        if dist < min_gap:\n",
    "            min_gap = dist\n",
    "            res = s\n",
    "        return res, min_gap\n"
   ]
  },
  {
   "cell_type": "code",
   "execution_count": 70,
   "metadata": {},
   "outputs": [
    {
     "data": {
      "text/plain": [
       "2"
      ]
     },
     "execution_count": 70,
     "metadata": {},
     "output_type": "execute_result"
    }
   ],
   "source": [
    "s = Solution()\n",
    "nums = [-1,0,1,1,55]\n",
    "target = 3\n",
    "s.threeSumClosest(nums, target)"
   ]
  },
  {
   "cell_type": "code",
   "execution_count": 61,
   "metadata": {},
   "outputs": [],
   "source": []
  },
  {
   "cell_type": "code",
   "execution_count": null,
   "metadata": {},
   "outputs": [],
   "source": []
  }
 ],
 "metadata": {
  "kernelspec": {
   "display_name": "Python 3",
   "language": "python",
   "name": "python3"
  },
  "language_info": {
   "codemirror_mode": {
    "name": "ipython",
    "version": 3
   },
   "file_extension": ".py",
   "mimetype": "text/x-python",
   "name": "python",
   "nbconvert_exporter": "python",
   "pygments_lexer": "ipython3",
   "version": "3.6.5"
  }
 },
 "nbformat": 4,
 "nbformat_minor": 1
}
