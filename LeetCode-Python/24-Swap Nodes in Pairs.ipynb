{
 "cells": [
  {
   "cell_type": "markdown",
   "metadata": {
    "collapsed": true
   },
   "source": [
    "给定一个链表，两两交换其中相邻的节点，并返回交换后的链表。\n",
    "\n",
    "你不能只是单纯的改变节点内部的值，而是需要实际的进行节点交换。\n",
    "\n",
    " \n",
    "\n",
    "示例:\n",
    "\n",
    "给定 1->2->3->4, 你应该返回 2->1->4->3.\n"
   ]
  },
  {
   "cell_type": "code",
   "execution_count": 2,
   "metadata": {},
   "outputs": [],
   "source": [
    "\"\"\"区别奇偶链表那题\"\"\"\n",
    "\n",
    "\n",
    "class ListNode:\n",
    "    def __init__(self, x):\n",
    "        self.val = x\n",
    "        self.next = None\n",
    "\n",
    "\n",
    "class Solution:\n",
    "    def swapPairs(self, head: ListNode) -> ListNode:\n",
    "        dummy_head = ListNode(None)\n",
    "        dummy_head.next = head\n",
    "\n",
    "        if not head:\n",
    "            return head\n",
    "        pre = dummy_head\n",
    "        first = pre.next\n",
    "        second = first.next  # first =True which means head=True\n",
    "\n",
    "        while second:\n",
    "            tmp = second.next  # second=True\n",
    "\n",
    "            pre.next = second\n",
    "            second.next = first\n",
    "            first.next = tmp\n",
    "\n",
    "            pre = first\n",
    "            first = pre.next\n",
    "            second = first.next if first else None\n",
    "            # first=True and first=tmp,\n",
    "            # which means tmp.next=True\n",
    "        return dummy_head.next\n"
   ]
  },
  {
   "cell_type": "code",
   "execution_count": 3,
   "metadata": {},
   "outputs": [],
   "source": [
    "\"\"\"\n",
    "由于first和second都是pre的后继节点，可以只更新pre节点\n",
    "first节点的判断借助于while循环\n",
    "可以进一步省略掉tmp指针\n",
    "\"\"\"\n",
    "\n",
    "\n",
    "class Solution:\n",
    "    def swapPairs(self, head: ListNode) -> ListNode:\n",
    "        dummy_head = ListNode(None)\n",
    "        dummy_head.next = head\n",
    "\n",
    "        pre = dummy_head\n",
    "        while pre.next and pre.next.next:\n",
    "            first = pre.next\n",
    "            second = first.next\n",
    "            tmp = second.next\n",
    "\n",
    "            pre.next = second\n",
    "            second.next = first\n",
    "            first.next = tmp\n",
    "\n",
    "            pre = first\n",
    "        return dummy_head.next\n"
   ]
  },
  {
   "cell_type": "code",
   "execution_count": null,
   "metadata": {},
   "outputs": [],
   "source": [
    "\"\"\"\n",
    "递归解法：\n",
    "主要在回溯中完成\n",
    "这里子链和父链差了两个节点\n",
    "\"\"\"\n",
    "class Solution:\n",
    "    def swapPairs(self, head: ListNode) -> ListNode:\n",
    "        if not head or not head.next:\n",
    "            return head\n",
    "\n",
    "        nxt = head.next  # head.next已经保证存在\n",
    "        head.next = self.swapPairs(nxt.next)\n",
    "        nxt.next = head\n",
    "        return nxt"
   ]
  }
 ],
 "metadata": {
  "kernelspec": {
   "display_name": "Python 3",
   "language": "python",
   "name": "python3"
  },
  "language_info": {
   "codemirror_mode": {
    "name": "ipython",
    "version": 3
   },
   "file_extension": ".py",
   "mimetype": "text/x-python",
   "name": "python",
   "nbconvert_exporter": "python",
   "pygments_lexer": "ipython3",
   "version": "3.6.5"
  }
 },
 "nbformat": 4,
 "nbformat_minor": 1
}
