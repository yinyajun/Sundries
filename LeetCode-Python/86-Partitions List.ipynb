{
 "cells": [
  {
   "cell_type": "markdown",
   "metadata": {
    "collapsed": true
   },
   "source": [
    "给定一个链表和一个特定值 x，对链表进行分隔，使得所有小于 x 的节点都在大于或等于 x 的节点之前。\n",
    "\n",
    "你应当保留两个分区中每个节点的初始相对位置。\n",
    "\n",
    "示例:\n",
    "\n",
    "输入: head = 1->4->3->2->5->2, x = 3\n",
    "\n",
    "输出: 1->2->2->4->3->5\n"
   ]
  },
  {
   "cell_type": "code",
   "execution_count": null,
   "metadata": {},
   "outputs": [],
   "source": [
    "# Definition for singly-linked list.\n",
    "class ListNode:\n",
    "    def __init__(self, x):\n",
    "        self.val = x\n",
    "        self.next = None\n",
    "\n",
    "\"\"\"\n",
    "思路：\n",
    "\n",
    "将原来的链表拆成两个链表\n",
    "用cur指针遍历原链表元素\n",
    "用left指针不断插入小于x的元素\n",
    "用right指针不断插入大于x的元素\n",
    "同时用left_head和right_head记录两个子链表的头结点\n",
    "\n",
    "然后拼接两个子链表，注意两个子链可能为空，同时注意\n",
    "大于x的子链最后可能会跟着一些原链表的元素，需要手动将子链最后一个元素的next置为None\n",
    "\n",
    "\"\"\"\n",
    "        \n",
    "class Solution:\n",
    "    def partition(self, head: ListNode, x: int) -> ListNode:\n",
    "        left, right = None, None\n",
    "        left_head, right_head = None, None\n",
    "        cur = head\n",
    "        while cur:\n",
    "            if cur.val < x:\n",
    "                if left is None:  # 需要对子链表头结点讨论\n",
    "                    left = cur\n",
    "                    left_head = left  # left指针需要更新\n",
    "                else:\n",
    "                    left.next = cur\n",
    "                    left = cur\n",
    "            else:\n",
    "                if right is None:\n",
    "                    right = cur\n",
    "                    right_head = right\n",
    "                else:\n",
    "                    right.next = cur\n",
    "                    right = cur\n",
    "            cur = cur.next\n",
    "\n",
    "        if left: # 头结点是否存在\n",
    "            left.next = right_head\n",
    "        else:\n",
    "            left_head = right_head\n",
    "\n",
    "        if right: # 右边子链表需要在非子链表元素处中断\n",
    "            right.next = None\n",
    "\n",
    "        return left_head"
   ]
  },
  {
   "cell_type": "code",
   "execution_count": null,
   "metadata": {},
   "outputs": [],
   "source": [
    "\"\"\"\n",
    "由于上面方法中，存在大量对头结点是否存在的讨论\n",
    "所以使用虚拟头结点可以减少讨论\n",
    "\"\"\"\n",
    "\n",
    "class Solution:\n",
    "    def partition(self, head: ListNode, x: int) -> ListNode:\n",
    "        left = dummy_left = ListNode(None)\n",
    "        right = dummy_right = ListNode(None)\n",
    "\n",
    "        while head:\n",
    "            if head.val < x:\n",
    "                left.next = head\n",
    "                left = head\n",
    "            else:\n",
    "                right.next = head\n",
    "                right = head\n",
    "            head = head.next\n",
    "\n",
    "        right.next = None\n",
    "        left.next = dummy_right.next\n",
    "\n",
    "        return dummy_left.next"
   ]
  }
 ],
 "metadata": {
  "kernelspec": {
   "display_name": "Python 3",
   "language": "python",
   "name": "python3"
  },
  "language_info": {
   "codemirror_mode": {
    "name": "ipython",
    "version": 3
   },
   "file_extension": ".py",
   "mimetype": "text/x-python",
   "name": "python",
   "nbconvert_exporter": "python",
   "pygments_lexer": "ipython3",
   "version": "3.6.5"
  }
 },
 "nbformat": 4,
 "nbformat_minor": 1
}
